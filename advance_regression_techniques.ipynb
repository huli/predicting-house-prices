{
 "cells": [
  {
   "cell_type": "markdown",
   "metadata": {},
   "source": [
    "### Predicting House Prices - Advanced Regression Techniques"
   ]
  },
  {
   "cell_type": "code",
   "execution_count": 1,
   "metadata": {
    "collapsed": true
   },
   "outputs": [],
   "source": [
    "import pandas as pd"
   ]
  },
  {
   "cell_type": "code",
   "execution_count": 12,
   "metadata": {},
   "outputs": [
    {
     "name": "stdout",
     "output_type": "stream",
     "text": [
      "Loaded 1460 training rows with 81 columns\n"
     ]
    }
   ],
   "source": [
    "train_df = pd.read_csv('data/train.csv')\n",
    "print('Loaded %s training rows with %s columns' % (train_df.shape[0], train_df.shape[1]))"
   ]
  },
  {
   "cell_type": "code",
   "execution_count": 13,
   "metadata": {},
   "outputs": [
    {
     "name": "stdout",
     "output_type": "stream",
     "text": [
      "Loaded 1459 test rows with 80 columns\n"
     ]
    }
   ],
   "source": [
    "test_df = pd.read_csv('data/test.csv')\n",
    "print('Loaded %s test rows with %s columns' % (test_df.shape[0], test_df.shape[1]))"
   ]
  },
  {
   "cell_type": "code",
   "execution_count": 14,
   "metadata": {},
   "outputs": [
    {
     "data": {
      "text/html": [
       "<div>\n",
       "<style scoped>\n",
       "    .dataframe tbody tr th:only-of-type {\n",
       "        vertical-align: middle;\n",
       "    }\n",
       "\n",
       "    .dataframe tbody tr th {\n",
       "        vertical-align: top;\n",
       "    }\n",
       "\n",
       "    .dataframe thead th {\n",
       "        text-align: right;\n",
       "    }\n",
       "</style>\n",
       "<table border=\"1\" class=\"dataframe\">\n",
       "  <thead>\n",
       "    <tr style=\"text-align: right;\">\n",
       "      <th></th>\n",
       "      <th>Id</th>\n",
       "      <th>MSSubClass</th>\n",
       "      <th>LotFrontage</th>\n",
       "      <th>LotArea</th>\n",
       "      <th>OverallQual</th>\n",
       "      <th>OverallCond</th>\n",
       "      <th>YearBuilt</th>\n",
       "      <th>YearRemodAdd</th>\n",
       "      <th>MasVnrArea</th>\n",
       "      <th>BsmtFinSF1</th>\n",
       "      <th>...</th>\n",
       "      <th>WoodDeckSF</th>\n",
       "      <th>OpenPorchSF</th>\n",
       "      <th>EnclosedPorch</th>\n",
       "      <th>3SsnPorch</th>\n",
       "      <th>ScreenPorch</th>\n",
       "      <th>PoolArea</th>\n",
       "      <th>MiscVal</th>\n",
       "      <th>MoSold</th>\n",
       "      <th>YrSold</th>\n",
       "      <th>SalePrice</th>\n",
       "    </tr>\n",
       "  </thead>\n",
       "  <tbody>\n",
       "    <tr>\n",
       "      <th>count</th>\n",
       "      <td>1460.000000</td>\n",
       "      <td>1460.000000</td>\n",
       "      <td>1201.000000</td>\n",
       "      <td>1460.000000</td>\n",
       "      <td>1460.000000</td>\n",
       "      <td>1460.000000</td>\n",
       "      <td>1460.000000</td>\n",
       "      <td>1460.000000</td>\n",
       "      <td>1452.000000</td>\n",
       "      <td>1460.000000</td>\n",
       "      <td>...</td>\n",
       "      <td>1460.000000</td>\n",
       "      <td>1460.000000</td>\n",
       "      <td>1460.000000</td>\n",
       "      <td>1460.000000</td>\n",
       "      <td>1460.000000</td>\n",
       "      <td>1460.000000</td>\n",
       "      <td>1460.000000</td>\n",
       "      <td>1460.000000</td>\n",
       "      <td>1460.000000</td>\n",
       "      <td>1460.000000</td>\n",
       "    </tr>\n",
       "    <tr>\n",
       "      <th>mean</th>\n",
       "      <td>730.500000</td>\n",
       "      <td>56.897260</td>\n",
       "      <td>70.049958</td>\n",
       "      <td>10516.828082</td>\n",
       "      <td>6.099315</td>\n",
       "      <td>5.575342</td>\n",
       "      <td>1971.267808</td>\n",
       "      <td>1984.865753</td>\n",
       "      <td>103.685262</td>\n",
       "      <td>443.639726</td>\n",
       "      <td>...</td>\n",
       "      <td>94.244521</td>\n",
       "      <td>46.660274</td>\n",
       "      <td>21.954110</td>\n",
       "      <td>3.409589</td>\n",
       "      <td>15.060959</td>\n",
       "      <td>2.758904</td>\n",
       "      <td>43.489041</td>\n",
       "      <td>6.321918</td>\n",
       "      <td>2007.815753</td>\n",
       "      <td>180921.195890</td>\n",
       "    </tr>\n",
       "    <tr>\n",
       "      <th>std</th>\n",
       "      <td>421.610009</td>\n",
       "      <td>42.300571</td>\n",
       "      <td>24.284752</td>\n",
       "      <td>9981.264932</td>\n",
       "      <td>1.382997</td>\n",
       "      <td>1.112799</td>\n",
       "      <td>30.202904</td>\n",
       "      <td>20.645407</td>\n",
       "      <td>181.066207</td>\n",
       "      <td>456.098091</td>\n",
       "      <td>...</td>\n",
       "      <td>125.338794</td>\n",
       "      <td>66.256028</td>\n",
       "      <td>61.119149</td>\n",
       "      <td>29.317331</td>\n",
       "      <td>55.757415</td>\n",
       "      <td>40.177307</td>\n",
       "      <td>496.123024</td>\n",
       "      <td>2.703626</td>\n",
       "      <td>1.328095</td>\n",
       "      <td>79442.502883</td>\n",
       "    </tr>\n",
       "    <tr>\n",
       "      <th>min</th>\n",
       "      <td>1.000000</td>\n",
       "      <td>20.000000</td>\n",
       "      <td>21.000000</td>\n",
       "      <td>1300.000000</td>\n",
       "      <td>1.000000</td>\n",
       "      <td>1.000000</td>\n",
       "      <td>1872.000000</td>\n",
       "      <td>1950.000000</td>\n",
       "      <td>0.000000</td>\n",
       "      <td>0.000000</td>\n",
       "      <td>...</td>\n",
       "      <td>0.000000</td>\n",
       "      <td>0.000000</td>\n",
       "      <td>0.000000</td>\n",
       "      <td>0.000000</td>\n",
       "      <td>0.000000</td>\n",
       "      <td>0.000000</td>\n",
       "      <td>0.000000</td>\n",
       "      <td>1.000000</td>\n",
       "      <td>2006.000000</td>\n",
       "      <td>34900.000000</td>\n",
       "    </tr>\n",
       "    <tr>\n",
       "      <th>25%</th>\n",
       "      <td>365.750000</td>\n",
       "      <td>20.000000</td>\n",
       "      <td>59.000000</td>\n",
       "      <td>7553.500000</td>\n",
       "      <td>5.000000</td>\n",
       "      <td>5.000000</td>\n",
       "      <td>1954.000000</td>\n",
       "      <td>1967.000000</td>\n",
       "      <td>0.000000</td>\n",
       "      <td>0.000000</td>\n",
       "      <td>...</td>\n",
       "      <td>0.000000</td>\n",
       "      <td>0.000000</td>\n",
       "      <td>0.000000</td>\n",
       "      <td>0.000000</td>\n",
       "      <td>0.000000</td>\n",
       "      <td>0.000000</td>\n",
       "      <td>0.000000</td>\n",
       "      <td>5.000000</td>\n",
       "      <td>2007.000000</td>\n",
       "      <td>129975.000000</td>\n",
       "    </tr>\n",
       "    <tr>\n",
       "      <th>50%</th>\n",
       "      <td>730.500000</td>\n",
       "      <td>50.000000</td>\n",
       "      <td>69.000000</td>\n",
       "      <td>9478.500000</td>\n",
       "      <td>6.000000</td>\n",
       "      <td>5.000000</td>\n",
       "      <td>1973.000000</td>\n",
       "      <td>1994.000000</td>\n",
       "      <td>0.000000</td>\n",
       "      <td>383.500000</td>\n",
       "      <td>...</td>\n",
       "      <td>0.000000</td>\n",
       "      <td>25.000000</td>\n",
       "      <td>0.000000</td>\n",
       "      <td>0.000000</td>\n",
       "      <td>0.000000</td>\n",
       "      <td>0.000000</td>\n",
       "      <td>0.000000</td>\n",
       "      <td>6.000000</td>\n",
       "      <td>2008.000000</td>\n",
       "      <td>163000.000000</td>\n",
       "    </tr>\n",
       "    <tr>\n",
       "      <th>75%</th>\n",
       "      <td>1095.250000</td>\n",
       "      <td>70.000000</td>\n",
       "      <td>80.000000</td>\n",
       "      <td>11601.500000</td>\n",
       "      <td>7.000000</td>\n",
       "      <td>6.000000</td>\n",
       "      <td>2000.000000</td>\n",
       "      <td>2004.000000</td>\n",
       "      <td>166.000000</td>\n",
       "      <td>712.250000</td>\n",
       "      <td>...</td>\n",
       "      <td>168.000000</td>\n",
       "      <td>68.000000</td>\n",
       "      <td>0.000000</td>\n",
       "      <td>0.000000</td>\n",
       "      <td>0.000000</td>\n",
       "      <td>0.000000</td>\n",
       "      <td>0.000000</td>\n",
       "      <td>8.000000</td>\n",
       "      <td>2009.000000</td>\n",
       "      <td>214000.000000</td>\n",
       "    </tr>\n",
       "    <tr>\n",
       "      <th>max</th>\n",
       "      <td>1460.000000</td>\n",
       "      <td>190.000000</td>\n",
       "      <td>313.000000</td>\n",
       "      <td>215245.000000</td>\n",
       "      <td>10.000000</td>\n",
       "      <td>9.000000</td>\n",
       "      <td>2010.000000</td>\n",
       "      <td>2010.000000</td>\n",
       "      <td>1600.000000</td>\n",
       "      <td>5644.000000</td>\n",
       "      <td>...</td>\n",
       "      <td>857.000000</td>\n",
       "      <td>547.000000</td>\n",
       "      <td>552.000000</td>\n",
       "      <td>508.000000</td>\n",
       "      <td>480.000000</td>\n",
       "      <td>738.000000</td>\n",
       "      <td>15500.000000</td>\n",
       "      <td>12.000000</td>\n",
       "      <td>2010.000000</td>\n",
       "      <td>755000.000000</td>\n",
       "    </tr>\n",
       "  </tbody>\n",
       "</table>\n",
       "<p>8 rows × 38 columns</p>\n",
       "</div>"
      ],
      "text/plain": [
       "                Id   MSSubClass  LotFrontage        LotArea  OverallQual  \\\n",
       "count  1460.000000  1460.000000  1201.000000    1460.000000  1460.000000   \n",
       "mean    730.500000    56.897260    70.049958   10516.828082     6.099315   \n",
       "std     421.610009    42.300571    24.284752    9981.264932     1.382997   \n",
       "min       1.000000    20.000000    21.000000    1300.000000     1.000000   \n",
       "25%     365.750000    20.000000    59.000000    7553.500000     5.000000   \n",
       "50%     730.500000    50.000000    69.000000    9478.500000     6.000000   \n",
       "75%    1095.250000    70.000000    80.000000   11601.500000     7.000000   \n",
       "max    1460.000000   190.000000   313.000000  215245.000000    10.000000   \n",
       "\n",
       "       OverallCond    YearBuilt  YearRemodAdd   MasVnrArea   BsmtFinSF1  \\\n",
       "count  1460.000000  1460.000000   1460.000000  1452.000000  1460.000000   \n",
       "mean      5.575342  1971.267808   1984.865753   103.685262   443.639726   \n",
       "std       1.112799    30.202904     20.645407   181.066207   456.098091   \n",
       "min       1.000000  1872.000000   1950.000000     0.000000     0.000000   \n",
       "25%       5.000000  1954.000000   1967.000000     0.000000     0.000000   \n",
       "50%       5.000000  1973.000000   1994.000000     0.000000   383.500000   \n",
       "75%       6.000000  2000.000000   2004.000000   166.000000   712.250000   \n",
       "max       9.000000  2010.000000   2010.000000  1600.000000  5644.000000   \n",
       "\n",
       "           ...         WoodDeckSF  OpenPorchSF  EnclosedPorch    3SsnPorch  \\\n",
       "count      ...        1460.000000  1460.000000    1460.000000  1460.000000   \n",
       "mean       ...          94.244521    46.660274      21.954110     3.409589   \n",
       "std        ...         125.338794    66.256028      61.119149    29.317331   \n",
       "min        ...           0.000000     0.000000       0.000000     0.000000   \n",
       "25%        ...           0.000000     0.000000       0.000000     0.000000   \n",
       "50%        ...           0.000000    25.000000       0.000000     0.000000   \n",
       "75%        ...         168.000000    68.000000       0.000000     0.000000   \n",
       "max        ...         857.000000   547.000000     552.000000   508.000000   \n",
       "\n",
       "       ScreenPorch     PoolArea       MiscVal       MoSold       YrSold  \\\n",
       "count  1460.000000  1460.000000   1460.000000  1460.000000  1460.000000   \n",
       "mean     15.060959     2.758904     43.489041     6.321918  2007.815753   \n",
       "std      55.757415    40.177307    496.123024     2.703626     1.328095   \n",
       "min       0.000000     0.000000      0.000000     1.000000  2006.000000   \n",
       "25%       0.000000     0.000000      0.000000     5.000000  2007.000000   \n",
       "50%       0.000000     0.000000      0.000000     6.000000  2008.000000   \n",
       "75%       0.000000     0.000000      0.000000     8.000000  2009.000000   \n",
       "max     480.000000   738.000000  15500.000000    12.000000  2010.000000   \n",
       "\n",
       "           SalePrice  \n",
       "count    1460.000000  \n",
       "mean   180921.195890  \n",
       "std     79442.502883  \n",
       "min     34900.000000  \n",
       "25%    129975.000000  \n",
       "50%    163000.000000  \n",
       "75%    214000.000000  \n",
       "max    755000.000000  \n",
       "\n",
       "[8 rows x 38 columns]"
      ]
     },
     "execution_count": 14,
     "metadata": {},
     "output_type": "execute_result"
    }
   ],
   "source": [
    "train_df.describe()"
   ]
  },
  {
   "cell_type": "code",
   "execution_count": 15,
   "metadata": {},
   "outputs": [
    {
     "data": {
      "text/html": [
       "<div>\n",
       "<style scoped>\n",
       "    .dataframe tbody tr th:only-of-type {\n",
       "        vertical-align: middle;\n",
       "    }\n",
       "\n",
       "    .dataframe tbody tr th {\n",
       "        vertical-align: top;\n",
       "    }\n",
       "\n",
       "    .dataframe thead th {\n",
       "        text-align: right;\n",
       "    }\n",
       "</style>\n",
       "<table border=\"1\" class=\"dataframe\">\n",
       "  <thead>\n",
       "    <tr style=\"text-align: right;\">\n",
       "      <th></th>\n",
       "      <th>Id</th>\n",
       "      <th>MSSubClass</th>\n",
       "      <th>MSZoning</th>\n",
       "      <th>LotFrontage</th>\n",
       "      <th>LotArea</th>\n",
       "      <th>Street</th>\n",
       "      <th>Alley</th>\n",
       "      <th>LotShape</th>\n",
       "      <th>LandContour</th>\n",
       "      <th>Utilities</th>\n",
       "      <th>...</th>\n",
       "      <th>PoolArea</th>\n",
       "      <th>PoolQC</th>\n",
       "      <th>Fence</th>\n",
       "      <th>MiscFeature</th>\n",
       "      <th>MiscVal</th>\n",
       "      <th>MoSold</th>\n",
       "      <th>YrSold</th>\n",
       "      <th>SaleType</th>\n",
       "      <th>SaleCondition</th>\n",
       "      <th>SalePrice</th>\n",
       "    </tr>\n",
       "  </thead>\n",
       "  <tbody>\n",
       "    <tr>\n",
       "      <th>0</th>\n",
       "      <td>1</td>\n",
       "      <td>60</td>\n",
       "      <td>RL</td>\n",
       "      <td>65.0</td>\n",
       "      <td>8450</td>\n",
       "      <td>Pave</td>\n",
       "      <td>NaN</td>\n",
       "      <td>Reg</td>\n",
       "      <td>Lvl</td>\n",
       "      <td>AllPub</td>\n",
       "      <td>...</td>\n",
       "      <td>0</td>\n",
       "      <td>NaN</td>\n",
       "      <td>NaN</td>\n",
       "      <td>NaN</td>\n",
       "      <td>0</td>\n",
       "      <td>2</td>\n",
       "      <td>2008</td>\n",
       "      <td>WD</td>\n",
       "      <td>Normal</td>\n",
       "      <td>208500</td>\n",
       "    </tr>\n",
       "    <tr>\n",
       "      <th>1</th>\n",
       "      <td>2</td>\n",
       "      <td>20</td>\n",
       "      <td>RL</td>\n",
       "      <td>80.0</td>\n",
       "      <td>9600</td>\n",
       "      <td>Pave</td>\n",
       "      <td>NaN</td>\n",
       "      <td>Reg</td>\n",
       "      <td>Lvl</td>\n",
       "      <td>AllPub</td>\n",
       "      <td>...</td>\n",
       "      <td>0</td>\n",
       "      <td>NaN</td>\n",
       "      <td>NaN</td>\n",
       "      <td>NaN</td>\n",
       "      <td>0</td>\n",
       "      <td>5</td>\n",
       "      <td>2007</td>\n",
       "      <td>WD</td>\n",
       "      <td>Normal</td>\n",
       "      <td>181500</td>\n",
       "    </tr>\n",
       "    <tr>\n",
       "      <th>2</th>\n",
       "      <td>3</td>\n",
       "      <td>60</td>\n",
       "      <td>RL</td>\n",
       "      <td>68.0</td>\n",
       "      <td>11250</td>\n",
       "      <td>Pave</td>\n",
       "      <td>NaN</td>\n",
       "      <td>IR1</td>\n",
       "      <td>Lvl</td>\n",
       "      <td>AllPub</td>\n",
       "      <td>...</td>\n",
       "      <td>0</td>\n",
       "      <td>NaN</td>\n",
       "      <td>NaN</td>\n",
       "      <td>NaN</td>\n",
       "      <td>0</td>\n",
       "      <td>9</td>\n",
       "      <td>2008</td>\n",
       "      <td>WD</td>\n",
       "      <td>Normal</td>\n",
       "      <td>223500</td>\n",
       "    </tr>\n",
       "    <tr>\n",
       "      <th>3</th>\n",
       "      <td>4</td>\n",
       "      <td>70</td>\n",
       "      <td>RL</td>\n",
       "      <td>60.0</td>\n",
       "      <td>9550</td>\n",
       "      <td>Pave</td>\n",
       "      <td>NaN</td>\n",
       "      <td>IR1</td>\n",
       "      <td>Lvl</td>\n",
       "      <td>AllPub</td>\n",
       "      <td>...</td>\n",
       "      <td>0</td>\n",
       "      <td>NaN</td>\n",
       "      <td>NaN</td>\n",
       "      <td>NaN</td>\n",
       "      <td>0</td>\n",
       "      <td>2</td>\n",
       "      <td>2006</td>\n",
       "      <td>WD</td>\n",
       "      <td>Abnorml</td>\n",
       "      <td>140000</td>\n",
       "    </tr>\n",
       "    <tr>\n",
       "      <th>4</th>\n",
       "      <td>5</td>\n",
       "      <td>60</td>\n",
       "      <td>RL</td>\n",
       "      <td>84.0</td>\n",
       "      <td>14260</td>\n",
       "      <td>Pave</td>\n",
       "      <td>NaN</td>\n",
       "      <td>IR1</td>\n",
       "      <td>Lvl</td>\n",
       "      <td>AllPub</td>\n",
       "      <td>...</td>\n",
       "      <td>0</td>\n",
       "      <td>NaN</td>\n",
       "      <td>NaN</td>\n",
       "      <td>NaN</td>\n",
       "      <td>0</td>\n",
       "      <td>12</td>\n",
       "      <td>2008</td>\n",
       "      <td>WD</td>\n",
       "      <td>Normal</td>\n",
       "      <td>250000</td>\n",
       "    </tr>\n",
       "  </tbody>\n",
       "</table>\n",
       "<p>5 rows × 81 columns</p>\n",
       "</div>"
      ],
      "text/plain": [
       "   Id  MSSubClass MSZoning  LotFrontage  LotArea Street Alley LotShape  \\\n",
       "0   1          60       RL         65.0     8450   Pave   NaN      Reg   \n",
       "1   2          20       RL         80.0     9600   Pave   NaN      Reg   \n",
       "2   3          60       RL         68.0    11250   Pave   NaN      IR1   \n",
       "3   4          70       RL         60.0     9550   Pave   NaN      IR1   \n",
       "4   5          60       RL         84.0    14260   Pave   NaN      IR1   \n",
       "\n",
       "  LandContour Utilities    ...     PoolArea PoolQC Fence MiscFeature MiscVal  \\\n",
       "0         Lvl    AllPub    ...            0    NaN   NaN         NaN       0   \n",
       "1         Lvl    AllPub    ...            0    NaN   NaN         NaN       0   \n",
       "2         Lvl    AllPub    ...            0    NaN   NaN         NaN       0   \n",
       "3         Lvl    AllPub    ...            0    NaN   NaN         NaN       0   \n",
       "4         Lvl    AllPub    ...            0    NaN   NaN         NaN       0   \n",
       "\n",
       "  MoSold YrSold  SaleType  SaleCondition  SalePrice  \n",
       "0      2   2008        WD         Normal     208500  \n",
       "1      5   2007        WD         Normal     181500  \n",
       "2      9   2008        WD         Normal     223500  \n",
       "3      2   2006        WD        Abnorml     140000  \n",
       "4     12   2008        WD         Normal     250000  \n",
       "\n",
       "[5 rows x 81 columns]"
      ]
     },
     "execution_count": 15,
     "metadata": {},
     "output_type": "execute_result"
    }
   ],
   "source": [
    "train_df.head(5)"
   ]
  },
  {
   "cell_type": "code",
   "execution_count": 20,
   "metadata": {
    "collapsed": true
   },
   "outputs": [],
   "source": [
    "import matplotlib.pyplot as plt"
   ]
  },
  {
   "cell_type": "code",
   "execution_count": 21,
   "metadata": {
    "collapsed": true
   },
   "outputs": [],
   "source": [
    "%matplotlib inline\n",
    "import seaborn\n",
    "seaborn.set()"
   ]
  },
  {
   "cell_type": "code",
   "execution_count": 25,
   "metadata": {
    "collapsed": true
   },
   "outputs": [],
   "source": [
    "import matplotlib.dates as mdates\n",
    "import locale\n",
    "locale.setlocale(locale.LC_ALL, 'de-CH')\n",
    "thousand_formatter = plt.FuncFormatter(lambda x, _ : locale.format(\"%d\", x, grouping=True))"
   ]
  },
  {
   "cell_type": "code",
   "execution_count": 45,
   "metadata": {},
   "outputs": [
    {
     "data": {
      "text/plain": [
       "(array([ 148.,  723.,  373.,  135.,   51.,   19.,    4.,    3.,    2.,    2.]),\n",
       " array([  34900.,  106910.,  178920.,  250930.,  322940.,  394950.,\n",
       "         466960.,  538970.,  610980.,  682990.,  755000.]),\n",
       " <a list of 10 Patch objects>)"
      ]
     },
     "execution_count": 45,
     "metadata": {},
     "output_type": "execute_result"
    },
    {
     "data": {
      "image/png": "[encoded data removed]",
      "text/plain": [
       "<matplotlib.figure.Figure at 0x179c3f4eac8>"
      ]
     },
     "metadata": {},
     "output_type": "display_data"
    }
   ],
   "source": [
    "fig, ax = plt.subplots(1, figsize=(14, 8))\n",
    "fig.suptitle('Distribution of prices')\n",
    "ax.set_ylabel('Number of houses')\n",
    "ax.set_xlabel('Price in $')\n",
    "ax.yaxis.set_major_formatter(thousand_formatter)\n",
    "ax.xaxis.set_major_formatter(thousand_formatter)\n",
    "ax.axvline(train_df['SalePrice'].mean(), c='black', linewidth=1, alpha=.5)\n",
    "ax.axvline(train_df['SalePrice'].median(), c='black', linewidth=1, alpha=.5, linestyle='--')\n",
    "ax.legend(['mean','median'])\n",
    "ax.hist(train_df.loc[:, 'SalePrice'])"
   ]
  },
  {
   "cell_type": "markdown",
   "metadata": {},
   "source": [
    "#### Creating a simple benchmark model with linear regression"
   ]
  },
  {
   "cell_type": "code",
   "execution_count": 47,
   "metadata": {},
   "outputs": [
    {
     "data": {
      "text/html": [
       "<div>\n",
       "<style scoped>\n",
       "    .dataframe tbody tr th:only-of-type {\n",
       "        vertical-align: middle;\n",
       "    }\n",
       "\n",
       "    .dataframe tbody tr th {\n",
       "        vertical-align: top;\n",
       "    }\n",
       "\n",
       "    .dataframe thead th {\n",
       "        text-align: right;\n",
       "    }\n",
       "</style>\n",
       "<table border=\"1\" class=\"dataframe\">\n",
       "  <thead>\n",
       "    <tr style=\"text-align: right;\">\n",
       "      <th></th>\n",
       "      <th>LotArea</th>\n",
       "      <th>YearBuilt</th>\n",
       "      <th>BsmtFullBath</th>\n",
       "      <th>BsmtHalfBath</th>\n",
       "      <th>FullBath</th>\n",
       "      <th>HalfBath</th>\n",
       "    </tr>\n",
       "  </thead>\n",
       "  <tbody>\n",
       "    <tr>\n",
       "      <th>0</th>\n",
       "      <td>8450</td>\n",
       "      <td>2003</td>\n",
       "      <td>1</td>\n",
       "      <td>0</td>\n",
       "      <td>2</td>\n",
       "      <td>1</td>\n",
       "    </tr>\n",
       "    <tr>\n",
       "      <th>1</th>\n",
       "      <td>9600</td>\n",
       "      <td>1976</td>\n",
       "      <td>0</td>\n",
       "      <td>1</td>\n",
       "      <td>2</td>\n",
       "      <td>0</td>\n",
       "    </tr>\n",
       "    <tr>\n",
       "      <th>2</th>\n",
       "      <td>11250</td>\n",
       "      <td>2001</td>\n",
       "      <td>1</td>\n",
       "      <td>0</td>\n",
       "      <td>2</td>\n",
       "      <td>1</td>\n",
       "    </tr>\n",
       "    <tr>\n",
       "      <th>3</th>\n",
       "      <td>9550</td>\n",
       "      <td>1915</td>\n",
       "      <td>1</td>\n",
       "      <td>0</td>\n",
       "      <td>1</td>\n",
       "      <td>0</td>\n",
       "    </tr>\n",
       "    <tr>\n",
       "      <th>4</th>\n",
       "      <td>14260</td>\n",
       "      <td>2000</td>\n",
       "      <td>1</td>\n",
       "      <td>0</td>\n",
       "      <td>2</td>\n",
       "      <td>1</td>\n",
       "    </tr>\n",
       "  </tbody>\n",
       "</table>\n",
       "</div>"
      ],
      "text/plain": [
       "   LotArea  YearBuilt  BsmtFullBath  BsmtHalfBath  FullBath  HalfBath\n",
       "0     8450       2003             1             0         2         1\n",
       "1     9600       1976             0             1         2         0\n",
       "2    11250       2001             1             0         2         1\n",
       "3     9550       1915             1             0         1         0\n",
       "4    14260       2000             1             0         2         1"
      ]
     },
     "execution_count": 47,
     "metadata": {},
     "output_type": "execute_result"
    }
   ],
   "source": [
    "train_df.loc[:, ['LotArea','YearBuilt','BsmtFullBath','BsmtHalfBath','FullBath','HalfBath']].head()"
   ]
  },
  {
   "cell_type": "code",
   "execution_count": 59,
   "metadata": {
    "collapsed": true
   },
   "outputs": [],
   "source": [
    "X = train_df.loc[:, ['LotArea','YearBuilt','BsmtFullBath','BsmtHalfBath','FullBath','HalfBath']]\n",
    "y = train_df['SalePrice']"
   ]
  },
  {
   "cell_type": "code",
   "execution_count": 98,
   "metadata": {
    "collapsed": true
   },
   "outputs": [],
   "source": [
    "# Do a train/test split on our train data\n",
    "from sklearn.model_selection import train_test_split\n",
    "X_train, X_test, y_train, y_test = train_test_split(X, y, test_size=.33, random_state=42)"
   ]
  },
  {
   "cell_type": "code",
   "execution_count": 61,
   "metadata": {
    "collapsed": true
   },
   "outputs": [],
   "source": [
    "from sklearn import linear_model"
   ]
  },
  {
   "cell_type": "code",
   "execution_count": 62,
   "metadata": {},
   "outputs": [
    {
     "data": {
      "text/plain": [
       "LinearRegression(copy_X=True, fit_intercept=True, n_jobs=1, normalize=False)"
      ]
     },
     "execution_count": 62,
     "metadata": {},
     "output_type": "execute_result"
    }
   ],
   "source": [
    "reg = linear_model.LinearRegression()\n",
    "reg.fit(X_train, y_train)"
   ]
  },
  {
   "cell_type": "code",
   "execution_count": 63,
   "metadata": {},
   "outputs": [
    {
     "data": {
      "text/plain": [
       "array([  1.21432182e+00,   6.64425958e+02,   2.69444822e+04,\n",
       "         2.67500080e+03,   5.40386237e+04,   2.53425545e+04])"
      ]
     },
     "execution_count": 63,
     "metadata": {},
     "output_type": "execute_result"
    }
   ],
   "source": [
    "reg.coef_"
   ]
  },
  {
   "cell_type": "code",
   "execution_count": 64,
   "metadata": {
    "collapsed": true
   },
   "outputs": [],
   "source": [
    "predictions = reg.predict(X_test)"
   ]
  },
  {
   "cell_type": "code",
   "execution_count": 67,
   "metadata": {},
   "outputs": [
    {
     "data": {
      "text/plain": [
       "0.51388423803353023"
      ]
     },
     "execution_count": 67,
     "metadata": {},
     "output_type": "execute_result"
    }
   ],
   "source": [
    "# Calculate r2 of simple linear model\n",
    "from sklearn.metrics import r2_score\n",
    "r2_score(y_test, predictions)"
   ]
  },
  {
   "cell_type": "markdown",
   "metadata": {},
   "source": [
    "#### Building a pipeline"
   ]
  },
  {
   "cell_type": "code",
   "execution_count": 68,
   "metadata": {
    "collapsed": true
   },
   "outputs": [],
   "source": [
    "# We first try a pipeline with a linear regression and k-best"
   ]
  },
  {
   "cell_type": "code",
   "execution_count": 113,
   "metadata": {
    "collapsed": true
   },
   "outputs": [],
   "source": [
    "from sklearn.base import TransformerMixin, BaseEstimator\n",
    "\n",
    "class NoFitMixin:\n",
    "    def fit(self, X, y=None):\n",
    "        return self\n",
    "\n",
    "class DFTransform(BaseEstimator, TransformerMixin, NoFitMixin):\n",
    "    def __init__(self, func, copy=False):\n",
    "        self.func = func\n",
    "        self.copy = copy\n",
    "\n",
    "    def transform(self, X):\n",
    "        X_ = X if not self.copy else X.copy()\n",
    "        return self.func(X_)"
   ]
  },
  {
   "cell_type": "code",
   "execution_count": 70,
   "metadata": {
    "collapsed": true
   },
   "outputs": [],
   "source": [
    "from sklearn.pipeline import Pipeline, FeatureUnion, _transform_one\n",
    "from sklearn.externals.joblib import Parallel, delayed\n",
    "\n",
    "class DFFeatureUnion(FeatureUnion):\n",
    "    def fit_transform(self, X, y=None, **fit_params):\n",
    "        # non-optimized default implementation; override when a better\n",
    "        # method is possible\n",
    "        if y is None:\n",
    "            # fit method of arity 1 (unsupervised transformation)\n",
    "            return self.fit(X, **fit_params).transform(X)\n",
    "        else:\n",
    "            # fit method of arity 2 (supervised transformation)\n",
    "            return self.fit(X, y, **fit_params).transform(X)\n",
    "\n",
    "    def transform(self, X):\n",
    "        Xs = Parallel(n_jobs=self.n_jobs)(\n",
    "            delayed(_transform_one)(trans, weight, X)\n",
    "            for _, trans, weight in self._iter())\n",
    "        return pd.concat(Xs, axis=1, join='inner')"
   ]
  },
  {
   "cell_type": "code",
   "execution_count": 71,
   "metadata": {
    "collapsed": true
   },
   "outputs": [],
   "source": [
    "from sklearn.feature_selection import SelectKBest"
   ]
  },
  {
   "cell_type": "code",
   "execution_count": 100,
   "metadata": {
    "collapsed": true
   },
   "outputs": [],
   "source": [
    "pipeline = Pipeline([\n",
    "    ('univ_select', SelectKBest(k=5)),\n",
    "    ('lin_reg', linear_model.LinearRegression())\n",
    "])"
   ]
  },
  {
   "cell_type": "code",
   "execution_count": 101,
   "metadata": {},
   "outputs": [
    {
     "data": {
      "text/plain": [
       "Pipeline(memory=None,\n",
       "     steps=[('univ_select', SelectKBest(k=5, score_func=<function f_classif at 0x00000179C4E41EA0>)), ('lin_reg', LinearRegression(copy_X=True, fit_intercept=True, n_jobs=1, normalize=False))])"
      ]
     },
     "execution_count": 101,
     "metadata": {},
     "output_type": "execute_result"
    }
   ],
   "source": [
    "pipeline.fit(X_train, y_train)"
   ]
  },
  {
   "cell_type": "code",
   "execution_count": 85,
   "metadata": {
    "collapsed": true
   },
   "outputs": [],
   "source": [
    "predictions = pipeline.predict(X_test)"
   ]
  },
  {
   "cell_type": "code",
   "execution_count": 86,
   "metadata": {},
   "outputs": [
    {
     "data": {
      "text/plain": [
       "0.51388423803353023"
      ]
     },
     "execution_count": 86,
     "metadata": {},
     "output_type": "execute_result"
    }
   ],
   "source": [
    "r2_score(y_test, predictions)"
   ]
  },
  {
   "cell_type": "markdown",
   "metadata": {},
   "source": [
    "#### Adding grid search to the pipeline"
   ]
  },
  {
   "cell_type": "code",
   "execution_count": 217,
   "metadata": {
    "collapsed": true
   },
   "outputs": [],
   "source": [
    "X = train_df.drop('SalePrice', axis=1)\n",
    "y = train_df['SalePrice']"
   ]
  },
  {
   "cell_type": "code",
   "execution_count": 218,
   "metadata": {
    "collapsed": true
   },
   "outputs": [],
   "source": [
    "# Do a train/test split on our train data\n",
    "from sklearn.model_selection import train_test_split\n",
    "X_train, X_test, y_train, y_test = train_test_split(X, y, test_size=.33, random_state=42)"
   ]
  },
  {
   "cell_type": "code",
   "execution_count": 219,
   "metadata": {
    "collapsed": true
   },
   "outputs": [],
   "source": [
    "pipeline = Pipeline([\n",
    "    ('numerical_select', DFTransform(lambda X: X.select_dtypes(exclude=['object']))),\n",
    "    ('fill_median', DFTransform(lambda X: X.fillna(X.median()))),\n",
    "    ('univ_select', SelectKBest(k=5)),\n",
    "    ('lin_reg', linear_model.LinearRegression())\n",
    "])"
   ]
  },
  {
   "cell_type": "code",
   "execution_count": 220,
   "metadata": {
    "collapsed": true
   },
   "outputs": [],
   "source": [
    "import warnings\n",
    "warnings.filterwarnings('ignore')"
   ]
  },
  {
   "cell_type": "code",
   "execution_count": 221,
   "metadata": {},
   "outputs": [
    {
     "name": "stdout",
     "output_type": "stream",
     "text": [
      "Fitting 3 folds for each of 8 candidates, totalling 24 fits\n",
      "Pipeline(memory=None,\n",
      "     steps=[('numerical_select', DFTransform(copy=False, func=<function <lambda> at 0x00000179C605A730>)), ('fill_median', DFTransform(copy=False, func=<function <lambda> at 0x00000179C605A510>)), ('univ_select', SelectKBest(k=8, score_func=<function f_classif at 0x00000179C4E41EA0>)), ('lin_reg', LinearRegression(copy_X=True, fit_intercept=True, n_jobs=1, normalize=True))])\n"
     ]
    },
    {
     "name": "stderr",
     "output_type": "stream",
     "text": [
      "[Parallel(n_jobs=1)]: Done  24 out of  24 | elapsed:    2.0s finished\n"
     ]
    }
   ],
   "source": [
    "from sklearn.model_selection import GridSearchCV\n",
    "\n",
    "param_grid = dict(univ_select__k=[3, 5, 8, 13],\n",
    "                  lin_reg__normalize=[True, False])\n",
    "\n",
    "grid_search = GridSearchCV(pipeline, param_grid=param_grid, verbose=1)\n",
    "grid_search.fit(X_train, y_train)\n",
    "print(grid_search.best_estimator_)"
   ]
  },
  {
   "cell_type": "code",
   "execution_count": 133,
   "metadata": {},
   "outputs": [
    {
     "data": {
      "text/plain": [
       "0.77146295631678297"
      ]
     },
     "execution_count": 133,
     "metadata": {},
     "output_type": "execute_result"
    }
   ],
   "source": [
    "predictions = grid_search.predict(X_test)\n",
    "r2_score(y_test, predictions)"
   ]
  },
  {
   "cell_type": "code",
   "execution_count": 134,
   "metadata": {},
   "outputs": [
    {
     "data": {
      "text/plain": [
       "{'lin_reg__normalize': True, 'univ_select__k': 8}"
      ]
     },
     "execution_count": 134,
     "metadata": {},
     "output_type": "execute_result"
    }
   ],
   "source": [
    "grid_search.best_params_"
   ]
  },
  {
   "cell_type": "code",
   "execution_count": 135,
   "metadata": {
    "collapsed": true
   },
   "outputs": [],
   "source": [
    "# Interesting! 8 features are better than 13!"
   ]
  },
  {
   "cell_type": "markdown",
   "metadata": {},
   "source": [
    "#### Building the loss function"
   ]
  },
  {
   "cell_type": "markdown",
   "metadata": {},
   "source": [
    "$$J(\\theta) = \\sqrt{\\frac{1}{n}\\sum_{n=1}^{n}(\\log{\\hat{y}_n}-\\log{y_n})^2}$$"
   ]
  },
  {
   "cell_type": "markdown",
   "metadata": {},
   "source": [
    "Submissions are evaluated on Root-Mean-Squared-Error (RMSE) between the logarithm of the predicted value and the logarithm of the observed sales price. (Taking logs means that errors in predicting expensive houses and cheap houses will affect the result equally.)"
   ]
  },
  {
   "cell_type": "code",
   "execution_count": 140,
   "metadata": {
    "collapsed": true
   },
   "outputs": [],
   "source": [
    "y_h = [2, 4, 7, 9]\n",
    "y_p = [2, 4.5, 6, 12]"
   ]
  },
  {
   "cell_type": "code",
   "execution_count": 141,
   "metadata": {
    "collapsed": true
   },
   "outputs": [],
   "source": [
    "import numpy as np\n",
    "import math"
   ]
  },
  {
   "cell_type": "code",
   "execution_count": 153,
   "metadata": {
    "collapsed": true
   },
   "outputs": [],
   "source": [
    "assert(4 == 4, \"foobar\")"
   ]
  },
  {
   "cell_type": "code",
   "execution_count": 170,
   "metadata": {
    "collapsed": true
   },
   "outputs": [],
   "source": [
    "def rmse_log(y_pred, y_actual):\n",
    "    assert len(y_pred) == len(y_actual), \"The lengths of the list do not match\"\n",
    "    return math.sqrt( 1/len(y_pred) * \\\n",
    "                     np.sum((np.log(y_pred) - np.log(y_actual))**2))"
   ]
  },
  {
   "cell_type": "code",
   "execution_count": 169,
   "metadata": {},
   "outputs": [
    {
     "data": {
      "text/plain": [
       "0.17349081415869722"
      ]
     },
     "execution_count": 169,
     "metadata": {},
     "output_type": "execute_result"
    }
   ],
   "source": [
    "rmse_log(y_h, y_p)"
   ]
  },
  {
   "cell_type": "markdown",
   "metadata": {},
   "source": [
    "Verifiy this with the sklearn function:"
   ]
  },
  {
   "cell_type": "code",
   "execution_count": 171,
   "metadata": {},
   "outputs": [
    {
     "data": {
      "text/plain": [
       "0.023937417615036153"
      ]
     },
     "execution_count": 171,
     "metadata": {},
     "output_type": "execute_result"
    }
   ],
   "source": [
    "from sklearn.metrics import mean_squared_log_error\n",
    "mean_squared_log_error(y_h, y_p)"
   ]
  },
  {
   "cell_type": "code",
   "execution_count": 205,
   "metadata": {},
   "outputs": [
    {
     "data": {
      "text/plain": [
       "0.15471721822420462"
      ]
     },
     "execution_count": 205,
     "metadata": {},
     "output_type": "execute_result"
    }
   ],
   "source": [
    "math.sqrt(mean_squared_log_error(y_h, y_p))"
   ]
  },
  {
   "cell_type": "code",
   "execution_count": 172,
   "metadata": {},
   "outputs": [
    {
     "data": {
      "text/plain": [
       "0.030099062597447619"
      ]
     },
     "execution_count": 172,
     "metadata": {},
     "output_type": "execute_result"
    }
   ],
   "source": [
    "from sklearn.metrics import mean_squared_error\n",
    "mean_squared_error(np.log(y_h), np.log(y_p))"
   ]
  },
  {
   "cell_type": "code",
   "execution_count": 206,
   "metadata": {},
   "outputs": [
    {
     "data": {
      "text/plain": [
       "0.17349081415869722"
      ]
     },
     "execution_count": 206,
     "metadata": {},
     "output_type": "execute_result"
    }
   ],
   "source": [
    "math.sqrt(mean_squared_error(np.log(y_h), np.log(y_p)))"
   ]
  },
  {
   "cell_type": "code",
   "execution_count": 203,
   "metadata": {
    "collapsed": true
   },
   "outputs": [],
   "source": [
    "def rmse(y_pred, y_actual):\n",
    "    assert len(y_pred) == len(y_actual), \"The lengths of the list do not match\"\n",
    "    return math.sqrt( 1.0/len(y_pred) * \\\n",
    "                     np.sum((np.asarray(y_pred) - np.asarray(y_actual))**2))"
   ]
  },
  {
   "cell_type": "code",
   "execution_count": 204,
   "metadata": {},
   "outputs": [
    {
     "data": {
      "text/plain": [
       "1.6007810593582121"
      ]
     },
     "execution_count": 204,
     "metadata": {},
     "output_type": "execute_result"
    }
   ],
   "source": [
    "rmse(y_h, y_p)"
   ]
  },
  {
   "cell_type": "markdown",
   "metadata": {},
   "source": [
    "Taking the root of the exiting sklearn function"
   ]
  },
  {
   "cell_type": "code",
   "execution_count": 283,
   "metadata": {
    "collapsed": true
   },
   "outputs": [],
   "source": [
    "from sklearn.metrics import mean_squared_error\n",
    "\n",
    "def rmse_log(y_actual, y_pred):\n",
    "    return math.sqrt(mean_squared_error(np.nan_to_num(np.log(y_pred)), np.log(y_actual)))"
   ]
  },
  {
   "cell_type": "code",
   "execution_count": 240,
   "metadata": {},
   "outputs": [
    {
     "name": "stdout",
     "output_type": "stream",
     "text": [
      "False\n"
     ]
    },
    {
     "data": {
      "text/plain": [
       "0.17349081415869722"
      ]
     },
     "execution_count": 240,
     "metadata": {},
     "output_type": "execute_result"
    }
   ],
   "source": [
    "rmse_log(y_h, y_p)"
   ]
  },
  {
   "cell_type": "markdown",
   "metadata": {},
   "source": [
    "#### Evaluating base model with correct loss function"
   ]
  },
  {
   "cell_type": "markdown",
   "metadata": {},
   "source": [
    "Building a custom scorer"
   ]
  },
  {
   "cell_type": "code",
   "execution_count": 232,
   "metadata": {
    "collapsed": true
   },
   "outputs": [],
   "source": [
    "from sklearn.metrics.scorer import make_scorer"
   ]
  },
  {
   "cell_type": "code",
   "execution_count": 278,
   "metadata": {
    "collapsed": true
   },
   "outputs": [],
   "source": [
    "rmse_log_scorer = make_scorer(rmse_log)"
   ]
  },
  {
   "cell_type": "code",
   "execution_count": 284,
   "metadata": {},
   "outputs": [
    {
     "name": "stdout",
     "output_type": "stream",
     "text": [
      "Fitting 8 folds for each of 8 candidates, totalling 64 fits\n",
      "Pipeline(memory=None,\n",
      "     steps=[('numerical_select', DFTransform(copy=False, func=<function <lambda> at 0x00000179C605A730>)), ('fill_median', DFTransform(copy=False, func=<function <lambda> at 0x00000179C605A510>)), ('univ_select', SelectKBest(k=3, score_func=<function f_classif at 0x00000179C4E41EA0>)), ('lin_reg', LinearRegression(copy_X=True, fit_intercept=True, n_jobs=1, normalize=True))])\n"
     ]
    },
    {
     "name": "stderr",
     "output_type": "stream",
     "text": [
      "[Parallel(n_jobs=1)]: Done  64 out of  64 | elapsed:    6.1s finished\n"
     ]
    }
   ],
   "source": [
    "from sklearn.model_selection import GridSearchCV\n",
    "\n",
    "param_grid = dict(univ_select__k=[3, 5, 8, 13],\n",
    "                  lin_reg__normalize=[True, False])\n",
    "\n",
    "grid_search = GridSearchCV(pipeline, param_grid=param_grid, verbose=1, cv=8,\n",
    "                            scoring = rmse_log_scorer)\n",
    "grid_search.fit(X_train, y_train)\n",
    "print(grid_search.best_estimator_)"
   ]
  },
  {
   "cell_type": "code",
   "execution_count": 287,
   "metadata": {},
   "outputs": [
    {
     "name": "stdout",
     "output_type": "stream",
     "text": [
      "R2-score: 0.682827718574\n",
      "RMSE (log): 0.5594201631289424\n"
     ]
    }
   ],
   "source": [
    "predictions = grid_search.predict(X_test)\n",
    "print('R2-score: %s' % r2_score(y_test, predictions))\n",
    "print('RMSE (log): %s' % rmse_log(y_test, predictions))"
   ]
  },
  {
   "cell_type": "markdown",
   "metadata": {},
   "source": [
    "#### Integrate leaderboard of kaggle"
   ]
  },
  {
   "cell_type": "code",
   "execution_count": 288,
   "metadata": {
    "collapsed": true
   },
   "outputs": [],
   "source": [
    "leaderboard = pd.read_csv('data/leaderboard.csv')"
   ]
  },
  {
   "cell_type": "code",
   "execution_count": 289,
   "metadata": {},
   "outputs": [
    {
     "data": {
      "text/html": [
       "<div>\n",
       "<style scoped>\n",
       "    .dataframe tbody tr th:only-of-type {\n",
       "        vertical-align: middle;\n",
       "    }\n",
       "\n",
       "    .dataframe tbody tr th {\n",
       "        vertical-align: top;\n",
       "    }\n",
       "\n",
       "    .dataframe thead th {\n",
       "        text-align: right;\n",
       "    }\n",
       "</style>\n",
       "<table border=\"1\" class=\"dataframe\">\n",
       "  <thead>\n",
       "    <tr style=\"text-align: right;\">\n",
       "      <th></th>\n",
       "      <th>TeamId</th>\n",
       "      <th>TeamName</th>\n",
       "      <th>SubmissionDate</th>\n",
       "      <th>Score</th>\n",
       "    </tr>\n",
       "  </thead>\n",
       "  <tbody>\n",
       "    <tr>\n",
       "      <th>0</th>\n",
       "      <td>365763</td>\n",
       "      <td>Paulo Pinto</td>\n",
       "      <td>2016-08-31 18:51:53</td>\n",
       "      <td>9.53944</td>\n",
       "    </tr>\n",
       "    <tr>\n",
       "      <th>1</th>\n",
       "      <td>365763</td>\n",
       "      <td>Paulo Pinto</td>\n",
       "      <td>2016-08-31 18:57:26</td>\n",
       "      <td>0.16042</td>\n",
       "    </tr>\n",
       "    <tr>\n",
       "      <th>2</th>\n",
       "      <td>365763</td>\n",
       "      <td>Paulo Pinto</td>\n",
       "      <td>2016-08-31 19:12:15</td>\n",
       "      <td>0.12632</td>\n",
       "    </tr>\n",
       "    <tr>\n",
       "      <th>3</th>\n",
       "      <td>367116</td>\n",
       "      <td>Russ Boucher</td>\n",
       "      <td>2016-09-04 02:46:17</td>\n",
       "      <td>0.12319</td>\n",
       "    </tr>\n",
       "    <tr>\n",
       "      <th>4</th>\n",
       "      <td>367116</td>\n",
       "      <td>Russ Boucher</td>\n",
       "      <td>2016-09-04 15:34:12</td>\n",
       "      <td>0.12241</td>\n",
       "    </tr>\n",
       "  </tbody>\n",
       "</table>\n",
       "</div>"
      ],
      "text/plain": [
       "   TeamId      TeamName       SubmissionDate    Score\n",
       "0  365763   Paulo Pinto  2016-08-31 18:51:53  9.53944\n",
       "1  365763   Paulo Pinto  2016-08-31 18:57:26  0.16042\n",
       "2  365763   Paulo Pinto  2016-08-31 19:12:15  0.12632\n",
       "3  367116  Russ Boucher  2016-09-04 02:46:17  0.12319\n",
       "4  367116  Russ Boucher  2016-09-04 15:34:12  0.12241"
      ]
     },
     "execution_count": 289,
     "metadata": {},
     "output_type": "execute_result"
    }
   ],
   "source": [
    "leaderboard.head()"
   ]
  },
  {
   "cell_type": "code",
   "execution_count": 292,
   "metadata": {},
   "outputs": [
    {
     "data": {
      "text/html": [
       "<div>\n",
       "<style scoped>\n",
       "    .dataframe tbody tr th:only-of-type {\n",
       "        vertical-align: middle;\n",
       "    }\n",
       "\n",
       "    .dataframe tbody tr th {\n",
       "        vertical-align: top;\n",
       "    }\n",
       "\n",
       "    .dataframe thead th {\n",
       "        text-align: right;\n",
       "    }\n",
       "</style>\n",
       "<table border=\"1\" class=\"dataframe\">\n",
       "  <thead>\n",
       "    <tr style=\"text-align: right;\">\n",
       "      <th></th>\n",
       "      <th>TeamId</th>\n",
       "      <th>TeamName</th>\n",
       "      <th>SubmissionDate</th>\n",
       "      <th>Score</th>\n",
       "    </tr>\n",
       "  </thead>\n",
       "  <tbody>\n",
       "    <tr>\n",
       "      <th>11880</th>\n",
       "      <td>1780632</td>\n",
       "      <td>GroundTruth</td>\n",
       "      <td>2018-06-14 06:59:25</td>\n",
       "      <td>0.00000</td>\n",
       "    </tr>\n",
       "    <tr>\n",
       "      <th>3719</th>\n",
       "      <td>1639000</td>\n",
       "      <td>ericbenhamou</td>\n",
       "      <td>2018-05-02 21:55:36</td>\n",
       "      <td>0.00354</td>\n",
       "    </tr>\n",
       "    <tr>\n",
       "      <th>336</th>\n",
       "      <td>439244</td>\n",
       "      <td>DSXL</td>\n",
       "      <td>2017-04-18 09:57:55</td>\n",
       "      <td>0.06626</td>\n",
       "    </tr>\n",
       "    <tr>\n",
       "      <th>307</th>\n",
       "      <td>439244</td>\n",
       "      <td>DSXL</td>\n",
       "      <td>2017-03-23 13:29:40</td>\n",
       "      <td>0.06627</td>\n",
       "    </tr>\n",
       "    <tr>\n",
       "      <th>9994</th>\n",
       "      <td>1752010</td>\n",
       "      <td>chi7moveon</td>\n",
       "      <td>2018-06-04 15:46:07</td>\n",
       "      <td>0.10677</td>\n",
       "    </tr>\n",
       "    <tr>\n",
       "      <th>4494</th>\n",
       "      <td>811726</td>\n",
       "      <td>Deargen</td>\n",
       "      <td>2018-05-07 14:03:32</td>\n",
       "      <td>0.10775</td>\n",
       "    </tr>\n",
       "    <tr>\n",
       "      <th>5099</th>\n",
       "      <td>365763</td>\n",
       "      <td>Paulo Pinto</td>\n",
       "      <td>2018-05-10 17:12:40</td>\n",
       "      <td>0.10910</td>\n",
       "    </tr>\n",
       "    <tr>\n",
       "      <th>5095</th>\n",
       "      <td>365763</td>\n",
       "      <td>Paulo Pinto</td>\n",
       "      <td>2018-05-10 17:05:52</td>\n",
       "      <td>0.10914</td>\n",
       "    </tr>\n",
       "    <tr>\n",
       "      <th>10802</th>\n",
       "      <td>1363349</td>\n",
       "      <td>Dmitry Storozhenko</td>\n",
       "      <td>2018-06-09 08:28:21</td>\n",
       "      <td>0.10915</td>\n",
       "    </tr>\n",
       "    <tr>\n",
       "      <th>10801</th>\n",
       "      <td>1363349</td>\n",
       "      <td>Dmitry Storozhenko</td>\n",
       "      <td>2018-06-09 08:26:02</td>\n",
       "      <td>0.10916</td>\n",
       "    </tr>\n",
       "  </tbody>\n",
       "</table>\n",
       "</div>"
      ],
      "text/plain": [
       "        TeamId            TeamName       SubmissionDate    Score\n",
       "11880  1780632         GroundTruth  2018-06-14 06:59:25  0.00000\n",
       "3719   1639000        ericbenhamou  2018-05-02 21:55:36  0.00354\n",
       "336     439244                DSXL  2017-04-18 09:57:55  0.06626\n",
       "307     439244                DSXL  2017-03-23 13:29:40  0.06627\n",
       "9994   1752010          chi7moveon  2018-06-04 15:46:07  0.10677\n",
       "4494    811726             Deargen  2018-05-07 14:03:32  0.10775\n",
       "5099    365763         Paulo Pinto  2018-05-10 17:12:40  0.10910\n",
       "5095    365763         Paulo Pinto  2018-05-10 17:05:52  0.10914\n",
       "10802  1363349  Dmitry Storozhenko  2018-06-09 08:28:21  0.10915\n",
       "10801  1363349  Dmitry Storozhenko  2018-06-09 08:26:02  0.10916"
      ]
     },
     "execution_count": 292,
     "metadata": {},
     "output_type": "execute_result"
    }
   ],
   "source": [
    "leaderboard.sort_values('Score', ascending=True).head(10)"
   ]
  },
  {
   "cell_type": "code",
   "execution_count": 294,
   "metadata": {},
   "outputs": [
    {
     "data": {
      "text/html": [
       "<div>\n",
       "<style scoped>\n",
       "    .dataframe tbody tr th:only-of-type {\n",
       "        vertical-align: middle;\n",
       "    }\n",
       "\n",
       "    .dataframe tbody tr th {\n",
       "        vertical-align: top;\n",
       "    }\n",
       "\n",
       "    .dataframe thead th {\n",
       "        text-align: right;\n",
       "    }\n",
       "</style>\n",
       "<table border=\"1\" class=\"dataframe\">\n",
       "  <thead>\n",
       "    <tr style=\"text-align: right;\">\n",
       "      <th></th>\n",
       "      <th>TeamId</th>\n",
       "      <th>TeamName</th>\n",
       "      <th>SubmissionDate</th>\n",
       "      <th>Score</th>\n",
       "    </tr>\n",
       "  </thead>\n",
       "  <tbody>\n",
       "    <tr>\n",
       "      <th>3263</th>\n",
       "      <td>1618024</td>\n",
       "      <td>Cameron Ramirez</td>\n",
       "      <td>2018-04-30 06:19:39</td>\n",
       "      <td>289.94320</td>\n",
       "    </tr>\n",
       "    <tr>\n",
       "      <th>3264</th>\n",
       "      <td>1618024</td>\n",
       "      <td>Cameron Ramirez</td>\n",
       "      <td>2018-04-30 06:20:27</td>\n",
       "      <td>289.66311</td>\n",
       "    </tr>\n",
       "    <tr>\n",
       "      <th>2965</th>\n",
       "      <td>1507331</td>\n",
       "      <td>Vicky Li</td>\n",
       "      <td>2018-04-24 19:00:22</td>\n",
       "      <td>234.45907</td>\n",
       "    </tr>\n",
       "    <tr>\n",
       "      <th>3265</th>\n",
       "      <td>1618024</td>\n",
       "      <td>Cameron Ramirez</td>\n",
       "      <td>2018-04-30 06:21:49</td>\n",
       "      <td>216.77429</td>\n",
       "    </tr>\n",
       "    <tr>\n",
       "      <th>7152</th>\n",
       "      <td>1704608</td>\n",
       "      <td>Hamzan Wadi</td>\n",
       "      <td>2018-05-20 10:06:07</td>\n",
       "      <td>25.95873</td>\n",
       "    </tr>\n",
       "    <tr>\n",
       "      <th>6080</th>\n",
       "      <td>1665676</td>\n",
       "      <td>Gleb Yeliseev</td>\n",
       "      <td>2018-05-15 11:28:43</td>\n",
       "      <td>16.39963</td>\n",
       "    </tr>\n",
       "    <tr>\n",
       "      <th>9734</th>\n",
       "      <td>1636117</td>\n",
       "      <td>kwong8</td>\n",
       "      <td>2018-06-03 09:22:51</td>\n",
       "      <td>15.66668</td>\n",
       "    </tr>\n",
       "    <tr>\n",
       "      <th>14345</th>\n",
       "      <td>1770792</td>\n",
       "      <td>Daria Czerniawko</td>\n",
       "      <td>2018-06-27 08:07:19</td>\n",
       "      <td>12.01789</td>\n",
       "    </tr>\n",
       "    <tr>\n",
       "      <th>2402</th>\n",
       "      <td>1524378</td>\n",
       "      <td>rerost</td>\n",
       "      <td>2018-04-12 13:56:57</td>\n",
       "      <td>12.01789</td>\n",
       "    </tr>\n",
       "    <tr>\n",
       "      <th>14532</th>\n",
       "      <td>1823588</td>\n",
       "      <td>Cihan Demir</td>\n",
       "      <td>2018-06-28 07:36:18</td>\n",
       "      <td>12.01781</td>\n",
       "    </tr>\n",
       "  </tbody>\n",
       "</table>\n",
       "</div>"
      ],
      "text/plain": [
       "        TeamId          TeamName       SubmissionDate      Score\n",
       "3263   1618024   Cameron Ramirez  2018-04-30 06:19:39  289.94320\n",
       "3264   1618024   Cameron Ramirez  2018-04-30 06:20:27  289.66311\n",
       "2965   1507331          Vicky Li  2018-04-24 19:00:22  234.45907\n",
       "3265   1618024   Cameron Ramirez  2018-04-30 06:21:49  216.77429\n",
       "7152   1704608       Hamzan Wadi  2018-05-20 10:06:07   25.95873\n",
       "6080   1665676     Gleb Yeliseev  2018-05-15 11:28:43   16.39963\n",
       "9734   1636117            kwong8  2018-06-03 09:22:51   15.66668\n",
       "14345  1770792  Daria Czerniawko  2018-06-27 08:07:19   12.01789\n",
       "2402   1524378            rerost  2018-04-12 13:56:57   12.01789\n",
       "14532  1823588       Cihan Demir  2018-06-28 07:36:18   12.01781"
      ]
     },
     "execution_count": 294,
     "metadata": {},
     "output_type": "execute_result"
    }
   ],
   "source": [
    "leaderboard.sort_values('Score', ascending=False).head(10)"
   ]
  },
  {
   "cell_type": "code",
   "execution_count": 329,
   "metadata": {},
   "outputs": [
    {
     "data": {
      "text/html": [
       "<div>\n",
       "<style scoped>\n",
       "    .dataframe tbody tr th:only-of-type {\n",
       "        vertical-align: middle;\n",
       "    }\n",
       "\n",
       "    .dataframe tbody tr th {\n",
       "        vertical-align: top;\n",
       "    }\n",
       "\n",
       "    .dataframe thead th {\n",
       "        text-align: right;\n",
       "    }\n",
       "</style>\n",
       "<table border=\"1\" class=\"dataframe\">\n",
       "  <thead>\n",
       "    <tr style=\"text-align: right;\">\n",
       "      <th></th>\n",
       "      <th>TeamId</th>\n",
       "      <th>TeamName</th>\n",
       "      <th>SubmissionDate</th>\n",
       "      <th>Score</th>\n",
       "    </tr>\n",
       "  </thead>\n",
       "  <tbody>\n",
       "    <tr>\n",
       "      <th>0</th>\n",
       "      <td>365763</td>\n",
       "      <td>Paulo Pinto</td>\n",
       "      <td>2016-08-31 18:51:53</td>\n",
       "      <td>9.53944</td>\n",
       "    </tr>\n",
       "    <tr>\n",
       "      <th>1</th>\n",
       "      <td>365763</td>\n",
       "      <td>Paulo Pinto</td>\n",
       "      <td>2016-08-31 18:57:26</td>\n",
       "      <td>0.16042</td>\n",
       "    </tr>\n",
       "    <tr>\n",
       "      <th>2</th>\n",
       "      <td>365763</td>\n",
       "      <td>Paulo Pinto</td>\n",
       "      <td>2016-08-31 19:12:15</td>\n",
       "      <td>0.12632</td>\n",
       "    </tr>\n",
       "    <tr>\n",
       "      <th>10</th>\n",
       "      <td>365763</td>\n",
       "      <td>Paulo Pinto</td>\n",
       "      <td>2016-09-06 12:58:34</td>\n",
       "      <td>0.12467</td>\n",
       "    </tr>\n",
       "    <tr>\n",
       "      <th>11</th>\n",
       "      <td>365763</td>\n",
       "      <td>Paulo Pinto</td>\n",
       "      <td>2016-09-06 12:59:13</td>\n",
       "      <td>0.12405</td>\n",
       "    </tr>\n",
       "    <tr>\n",
       "      <th>96</th>\n",
       "      <td>365763</td>\n",
       "      <td>Paulo Pinto</td>\n",
       "      <td>2016-12-08 18:02:01</td>\n",
       "      <td>0.11590</td>\n",
       "    </tr>\n",
       "    <tr>\n",
       "      <th>97</th>\n",
       "      <td>365763</td>\n",
       "      <td>Paulo Pinto</td>\n",
       "      <td>2016-12-08 18:13:43</td>\n",
       "      <td>0.11491</td>\n",
       "    </tr>\n",
       "    <tr>\n",
       "      <th>98</th>\n",
       "      <td>365763</td>\n",
       "      <td>Paulo Pinto</td>\n",
       "      <td>2016-12-08 18:15:30</td>\n",
       "      <td>0.11439</td>\n",
       "    </tr>\n",
       "    <tr>\n",
       "      <th>99</th>\n",
       "      <td>365763</td>\n",
       "      <td>Paulo Pinto</td>\n",
       "      <td>2016-12-09 00:17:52</td>\n",
       "      <td>0.11284</td>\n",
       "    </tr>\n",
       "    <tr>\n",
       "      <th>5092</th>\n",
       "      <td>365763</td>\n",
       "      <td>Paulo Pinto</td>\n",
       "      <td>2018-05-10 17:01:38</td>\n",
       "      <td>0.10985</td>\n",
       "    </tr>\n",
       "    <tr>\n",
       "      <th>5094</th>\n",
       "      <td>365763</td>\n",
       "      <td>Paulo Pinto</td>\n",
       "      <td>2018-05-10 17:04:32</td>\n",
       "      <td>0.10949</td>\n",
       "    </tr>\n",
       "    <tr>\n",
       "      <th>5095</th>\n",
       "      <td>365763</td>\n",
       "      <td>Paulo Pinto</td>\n",
       "      <td>2018-05-10 17:05:52</td>\n",
       "      <td>0.10914</td>\n",
       "    </tr>\n",
       "    <tr>\n",
       "      <th>5099</th>\n",
       "      <td>365763</td>\n",
       "      <td>Paulo Pinto</td>\n",
       "      <td>2018-05-10 17:12:40</td>\n",
       "      <td>0.10910</td>\n",
       "    </tr>\n",
       "  </tbody>\n",
       "</table>\n",
       "</div>"
      ],
      "text/plain": [
       "      TeamId     TeamName       SubmissionDate    Score\n",
       "0     365763  Paulo Pinto  2016-08-31 18:51:53  9.53944\n",
       "1     365763  Paulo Pinto  2016-08-31 18:57:26  0.16042\n",
       "2     365763  Paulo Pinto  2016-08-31 19:12:15  0.12632\n",
       "10    365763  Paulo Pinto  2016-09-06 12:58:34  0.12467\n",
       "11    365763  Paulo Pinto  2016-09-06 12:59:13  0.12405\n",
       "96    365763  Paulo Pinto  2016-12-08 18:02:01  0.11590\n",
       "97    365763  Paulo Pinto  2016-12-08 18:13:43  0.11491\n",
       "98    365763  Paulo Pinto  2016-12-08 18:15:30  0.11439\n",
       "99    365763  Paulo Pinto  2016-12-09 00:17:52  0.11284\n",
       "5092  365763  Paulo Pinto  2018-05-10 17:01:38  0.10985\n",
       "5094  365763  Paulo Pinto  2018-05-10 17:04:32  0.10949\n",
       "5095  365763  Paulo Pinto  2018-05-10 17:05:52  0.10914\n",
       "5099  365763  Paulo Pinto  2018-05-10 17:12:40  0.10910"
      ]
     },
     "execution_count": 329,
     "metadata": {},
     "output_type": "execute_result"
    }
   ],
   "source": [
    "#leaderboard.where(leaderboard['TeamName'] != None).where(leaderboard['TeamName'] == 'Paulo Pinto')\n",
    "leaderboard.loc[(leaderboard['TeamName'].notnull()) & (leaderboard['TeamName'] == 'Paulo Pinto')]"
   ]
  },
  {
   "cell_type": "markdown",
   "metadata": {},
   "source": [
    "We see, that even top scorer have high scores (bad results) submitted."
   ]
  },
  {
   "cell_type": "markdown",
   "metadata": {},
   "source": [
    "We aim high so we visualize just the first quantile"
   ]
  },
  {
   "cell_type": "code",
   "execution_count": 341,
   "metadata": {},
   "outputs": [
    {
     "data": {
      "text/plain": [
       "Score    0.12643\n",
       "Name: 0.25, dtype: float64"
      ]
     },
     "execution_count": 341,
     "metadata": {},
     "output_type": "execute_result"
    }
   ],
   "source": [
    "leaderboard.loc[:, ['Score']].quantile(.25)"
   ]
  },
  {
   "cell_type": "code",
   "execution_count": 356,
   "metadata": {
    "collapsed": true
   },
   "outputs": [],
   "source": [
    "# We drop the highest 25%\n",
    "q3 = leaderboard.loc[leaderboard.Score < leaderboard.Score.quantile(.75)]"
   ]
  },
  {
   "cell_type": "code",
   "execution_count": 357,
   "metadata": {},
   "outputs": [
    {
     "data": {
      "text/plain": [
       "<matplotlib.axes._subplots.AxesSubplot at 0x179c7f95a58>"
      ]
     },
     "execution_count": 357,
     "metadata": {},
     "output_type": "execute_result"
    },
    {
     "data": {
      "image/png": "[encoded data removed]",
      "text/plain": [
       "<matplotlib.figure.Figure at 0x179c7f879e8>"
      ]
     },
     "metadata": {},
     "output_type": "display_data"
    }
   ],
   "source": [
    "q3['Score'].hist(bins = 50)"
   ]
  },
  {
   "cell_type": "markdown",
   "metadata": {},
   "source": [
    "#### Making first submission for comparing local results to the kaggle results"
   ]
  },
  {
   "cell_type": "code",
   "execution_count": 359,
   "metadata": {
    "collapsed": true
   },
   "outputs": [],
   "source": [
    "# This time we train on the complete set\n",
    "X = train_df.drop('SalePrice', axis=1)\n",
    "y = train_df['SalePrice']"
   ]
  },
  {
   "cell_type": "code",
   "execution_count": 370,
   "metadata": {
    "collapsed": true
   },
   "outputs": [],
   "source": [
    "rmse_log_scorer = make_scorer(rmse_log, greater_is_better=False)"
   ]
  },
  {
   "cell_type": "code",
   "execution_count": 371,
   "metadata": {
    "collapsed": true
   },
   "outputs": [],
   "source": [
    "pipeline = Pipeline([\n",
    "    ('numerical_select', DFTransform(lambda X: X.select_dtypes(exclude=['object']))),\n",
    "    ('fill_median', DFTransform(lambda X: X.fillna(X.median()))),\n",
    "    ('univ_select', SelectKBest(k=5)),\n",
    "    ('lin_reg', linear_model.LinearRegression())\n",
    "])"
   ]
  },
  {
   "cell_type": "code",
   "execution_count": 387,
   "metadata": {},
   "outputs": [
    {
     "name": "stdout",
     "output_type": "stream",
     "text": [
      "Fitting 8 folds for each of 8 candidates, totalling 64 fits\n",
      "Pipeline(memory=None,\n",
      "     steps=[('numerical_select', DFTransform(copy=False, func=<function <lambda> at 0x00000179C80FC510>)), ('fill_median', DFTransform(copy=False, func=<function <lambda> at 0x00000179C80FCE18>)), ('univ_select', SelectKBest(k=13, score_func=<function f_classif at 0x00000179C4E41EA0>)), ('lin_reg', LinearRegression(copy_X=True, fit_intercept=True, n_jobs=1, normalize=True))])\n"
     ]
    },
    {
     "name": "stderr",
     "output_type": "stream",
     "text": [
      "[Parallel(n_jobs=1)]: Done  64 out of  64 | elapsed:    5.6s finished\n"
     ]
    }
   ],
   "source": [
    "# We first repeat the process with a train and test set\n",
    "# Do a train/test split on our train data\n",
    "from sklearn.model_selection import train_test_split\n",
    "X_train, X_test, y_train, y_test = train_test_split(X, y, test_size=.4, random_state=42)\n",
    "\n",
    "grid_search = GridSearchCV(pipeline, param_grid=param_grid, verbose=1, cv=8,\n",
    "                            scoring = rmse_log_scorer)\n",
    "grid_search.fit(X_train, y_train)\n",
    "print(grid_search.best_estimator_)"
   ]
  },
  {
   "cell_type": "code",
   "execution_count": 388,
   "metadata": {},
   "outputs": [
    {
     "name": "stdout",
     "output_type": "stream",
     "text": [
      "R2-score: 0.795016292357\n",
      "RMSE (log): 0.2003831760232423\n"
     ]
    }
   ],
   "source": [
    "# We just print once again our results if we do not train with all the train data\n",
    "predictions = grid_search.predict(X_test)\n",
    "print('R2-score: %s' % r2_score(y_test, predictions))\n",
    "print('RMSE (log): %s' % rmse_log(y_test, predictions))"
   ]
  },
  {
   "cell_type": "code",
   "execution_count": 389,
   "metadata": {},
   "outputs": [
    {
     "name": "stdout",
     "output_type": "stream",
     "text": [
      "Fitting 8 folds for each of 8 candidates, totalling 64 fits\n",
      "Pipeline(memory=None,\n",
      "     steps=[('numerical_select', DFTransform(copy=False, func=<function <lambda> at 0x00000179C80FC510>)), ('fill_median', DFTransform(copy=False, func=<function <lambda> at 0x00000179C80FCE18>)), ('univ_select', SelectKBest(k=13, score_func=<function f_classif at 0x00000179C4E41EA0>)), ('lin_reg', LinearRegression(copy_X=True, fit_intercept=True, n_jobs=1, normalize=True))])\n"
     ]
    },
    {
     "name": "stderr",
     "output_type": "stream",
     "text": [
      "[Parallel(n_jobs=1)]: Done  64 out of  64 | elapsed:    6.5s finished\n"
     ]
    }
   ],
   "source": [
    "# Now we train with all the data we are given\n",
    "from sklearn.model_selection import GridSearchCV\n",
    "\n",
    "param_grid = dict(univ_select__k=[3, 5, 8, 13],\n",
    "                  lin_reg__normalize=[True, False])\n",
    "\n",
    "grid_search = GridSearchCV(pipeline, param_grid=param_grid, verbose=1, cv=8,\n",
    "                            scoring = rmse_log_scorer)\n",
    "grid_search.fit(X, y)\n",
    "print(grid_search.best_estimator_)"
   ]
  },
  {
   "cell_type": "code",
   "execution_count": 390,
   "metadata": {},
   "outputs": [
    {
     "name": "stdout",
     "output_type": "stream",
     "text": [
      "R2-score: 0.783659127922\n",
      "RMSE (log): 0.45672434936486556\n"
     ]
    }
   ],
   "source": [
    "predictions = grid_search.predict(X)\n",
    "print('R2-score: %s' % r2_score(y, predictions))\n",
    "print('RMSE (log): %s' % rmse_log(y, predictions))"
   ]
  },
  {
   "cell_type": "code",
   "execution_count": 391,
   "metadata": {},
   "outputs": [
    {
     "data": {
      "text/html": [
       "<div>\n",
       "<style scoped>\n",
       "    .dataframe tbody tr th:only-of-type {\n",
       "        vertical-align: middle;\n",
       "    }\n",
       "\n",
       "    .dataframe tbody tr th {\n",
       "        vertical-align: top;\n",
       "    }\n",
       "\n",
       "    .dataframe thead th {\n",
       "        text-align: right;\n",
       "    }\n",
       "</style>\n",
       "<table border=\"1\" class=\"dataframe\">\n",
       "  <thead>\n",
       "    <tr style=\"text-align: right;\">\n",
       "      <th></th>\n",
       "      <th>Id</th>\n",
       "      <th>MSSubClass</th>\n",
       "      <th>MSZoning</th>\n",
       "      <th>LotFrontage</th>\n",
       "      <th>LotArea</th>\n",
       "      <th>Street</th>\n",
       "      <th>Alley</th>\n",
       "      <th>LotShape</th>\n",
       "      <th>LandContour</th>\n",
       "      <th>Utilities</th>\n",
       "      <th>...</th>\n",
       "      <th>ScreenPorch</th>\n",
       "      <th>PoolArea</th>\n",
       "      <th>PoolQC</th>\n",
       "      <th>Fence</th>\n",
       "      <th>MiscFeature</th>\n",
       "      <th>MiscVal</th>\n",
       "      <th>MoSold</th>\n",
       "      <th>YrSold</th>\n",
       "      <th>SaleType</th>\n",
       "      <th>SaleCondition</th>\n",
       "    </tr>\n",
       "  </thead>\n",
       "  <tbody>\n",
       "    <tr>\n",
       "      <th>0</th>\n",
       "      <td>1461</td>\n",
       "      <td>20</td>\n",
       "      <td>RH</td>\n",
       "      <td>80.0</td>\n",
       "      <td>11622</td>\n",
       "      <td>Pave</td>\n",
       "      <td>NaN</td>\n",
       "      <td>Reg</td>\n",
       "      <td>Lvl</td>\n",
       "      <td>AllPub</td>\n",
       "      <td>...</td>\n",
       "      <td>120</td>\n",
       "      <td>0</td>\n",
       "      <td>NaN</td>\n",
       "      <td>MnPrv</td>\n",
       "      <td>NaN</td>\n",
       "      <td>0</td>\n",
       "      <td>6</td>\n",
       "      <td>2010</td>\n",
       "      <td>WD</td>\n",
       "      <td>Normal</td>\n",
       "    </tr>\n",
       "    <tr>\n",
       "      <th>1</th>\n",
       "      <td>1462</td>\n",
       "      <td>20</td>\n",
       "      <td>RL</td>\n",
       "      <td>81.0</td>\n",
       "      <td>14267</td>\n",
       "      <td>Pave</td>\n",
       "      <td>NaN</td>\n",
       "      <td>IR1</td>\n",
       "      <td>Lvl</td>\n",
       "      <td>AllPub</td>\n",
       "      <td>...</td>\n",
       "      <td>0</td>\n",
       "      <td>0</td>\n",
       "      <td>NaN</td>\n",
       "      <td>NaN</td>\n",
       "      <td>Gar2</td>\n",
       "      <td>12500</td>\n",
       "      <td>6</td>\n",
       "      <td>2010</td>\n",
       "      <td>WD</td>\n",
       "      <td>Normal</td>\n",
       "    </tr>\n",
       "    <tr>\n",
       "      <th>2</th>\n",
       "      <td>1463</td>\n",
       "      <td>60</td>\n",
       "      <td>RL</td>\n",
       "      <td>74.0</td>\n",
       "      <td>13830</td>\n",
       "      <td>Pave</td>\n",
       "      <td>NaN</td>\n",
       "      <td>IR1</td>\n",
       "      <td>Lvl</td>\n",
       "      <td>AllPub</td>\n",
       "      <td>...</td>\n",
       "      <td>0</td>\n",
       "      <td>0</td>\n",
       "      <td>NaN</td>\n",
       "      <td>MnPrv</td>\n",
       "      <td>NaN</td>\n",
       "      <td>0</td>\n",
       "      <td>3</td>\n",
       "      <td>2010</td>\n",
       "      <td>WD</td>\n",
       "      <td>Normal</td>\n",
       "    </tr>\n",
       "    <tr>\n",
       "      <th>3</th>\n",
       "      <td>1464</td>\n",
       "      <td>60</td>\n",
       "      <td>RL</td>\n",
       "      <td>78.0</td>\n",
       "      <td>9978</td>\n",
       "      <td>Pave</td>\n",
       "      <td>NaN</td>\n",
       "      <td>IR1</td>\n",
       "      <td>Lvl</td>\n",
       "      <td>AllPub</td>\n",
       "      <td>...</td>\n",
       "      <td>0</td>\n",
       "      <td>0</td>\n",
       "      <td>NaN</td>\n",
       "      <td>NaN</td>\n",
       "      <td>NaN</td>\n",
       "      <td>0</td>\n",
       "      <td>6</td>\n",
       "      <td>2010</td>\n",
       "      <td>WD</td>\n",
       "      <td>Normal</td>\n",
       "    </tr>\n",
       "    <tr>\n",
       "      <th>4</th>\n",
       "      <td>1465</td>\n",
       "      <td>120</td>\n",
       "      <td>RL</td>\n",
       "      <td>43.0</td>\n",
       "      <td>5005</td>\n",
       "      <td>Pave</td>\n",
       "      <td>NaN</td>\n",
       "      <td>IR1</td>\n",
       "      <td>HLS</td>\n",
       "      <td>AllPub</td>\n",
       "      <td>...</td>\n",
       "      <td>144</td>\n",
       "      <td>0</td>\n",
       "      <td>NaN</td>\n",
       "      <td>NaN</td>\n",
       "      <td>NaN</td>\n",
       "      <td>0</td>\n",
       "      <td>1</td>\n",
       "      <td>2010</td>\n",
       "      <td>WD</td>\n",
       "      <td>Normal</td>\n",
       "    </tr>\n",
       "  </tbody>\n",
       "</table>\n",
       "<p>5 rows × 80 columns</p>\n",
       "</div>"
      ],
      "text/plain": [
       "     Id  MSSubClass MSZoning  LotFrontage  LotArea Street Alley LotShape  \\\n",
       "0  1461          20       RH         80.0    11622   Pave   NaN      Reg   \n",
       "1  1462          20       RL         81.0    14267   Pave   NaN      IR1   \n",
       "2  1463          60       RL         74.0    13830   Pave   NaN      IR1   \n",
       "3  1464          60       RL         78.0     9978   Pave   NaN      IR1   \n",
       "4  1465         120       RL         43.0     5005   Pave   NaN      IR1   \n",
       "\n",
       "  LandContour Utilities      ...       ScreenPorch PoolArea PoolQC  Fence  \\\n",
       "0         Lvl    AllPub      ...               120        0    NaN  MnPrv   \n",
       "1         Lvl    AllPub      ...                 0        0    NaN    NaN   \n",
       "2         Lvl    AllPub      ...                 0        0    NaN  MnPrv   \n",
       "3         Lvl    AllPub      ...                 0        0    NaN    NaN   \n",
       "4         HLS    AllPub      ...               144        0    NaN    NaN   \n",
       "\n",
       "  MiscFeature MiscVal MoSold  YrSold  SaleType  SaleCondition  \n",
       "0         NaN       0      6    2010        WD         Normal  \n",
       "1        Gar2   12500      6    2010        WD         Normal  \n",
       "2         NaN       0      3    2010        WD         Normal  \n",
       "3         NaN       0      6    2010        WD         Normal  \n",
       "4         NaN       0      1    2010        WD         Normal  \n",
       "\n",
       "[5 rows x 80 columns]"
      ]
     },
     "execution_count": 391,
     "metadata": {},
     "output_type": "execute_result"
    }
   ],
   "source": [
    "# Now we predict the submission set\n",
    "test_df.head()"
   ]
  },
  {
   "cell_type": "code",
   "execution_count": 392,
   "metadata": {
    "collapsed": true
   },
   "outputs": [],
   "source": [
    "predictions = grid_search.predict(test_df)"
   ]
  },
  {
   "cell_type": "code",
   "execution_count": 394,
   "metadata": {},
   "outputs": [
    {
     "data": {
      "text/plain": [
       "array([ 109888.68965612,  161926.7981299 ,  168482.27093434,\n",
       "        185621.79093184,  212814.79635287,  179686.43963561,\n",
       "        172836.88946434,  172897.81272137,  204947.37852151,\n",
       "         99821.67182527])"
      ]
     },
     "execution_count": 394,
     "metadata": {},
     "output_type": "execute_result"
    }
   ],
   "source": [
    "predictions[:10]"
   ]
  },
  {
   "cell_type": "code",
   "execution_count": 398,
   "metadata": {
    "collapsed": true
   },
   "outputs": [],
   "source": [
    "submission = pd.DataFrame({'Id': test_df.Id, 'SalePrice': predictions})"
   ]
  },
  {
   "cell_type": "code",
   "execution_count": 400,
   "metadata": {},
   "outputs": [
    {
     "data": {
      "text/html": [
       "<div>\n",
       "<style scoped>\n",
       "    .dataframe tbody tr th:only-of-type {\n",
       "        vertical-align: middle;\n",
       "    }\n",
       "\n",
       "    .dataframe tbody tr th {\n",
       "        vertical-align: top;\n",
       "    }\n",
       "\n",
       "    .dataframe thead th {\n",
       "        text-align: right;\n",
       "    }\n",
       "</style>\n",
       "<table border=\"1\" class=\"dataframe\">\n",
       "  <thead>\n",
       "    <tr style=\"text-align: right;\">\n",
       "      <th></th>\n",
       "      <th>Id</th>\n",
       "      <th>SalePrice</th>\n",
       "    </tr>\n",
       "  </thead>\n",
       "  <tbody>\n",
       "    <tr>\n",
       "      <th>0</th>\n",
       "      <td>1461</td>\n",
       "      <td>109888.689656</td>\n",
       "    </tr>\n",
       "    <tr>\n",
       "      <th>1</th>\n",
       "      <td>1462</td>\n",
       "      <td>161926.798130</td>\n",
       "    </tr>\n",
       "    <tr>\n",
       "      <th>2</th>\n",
       "      <td>1463</td>\n",
       "      <td>168482.270934</td>\n",
       "    </tr>\n",
       "    <tr>\n",
       "      <th>3</th>\n",
       "      <td>1464</td>\n",
       "      <td>185621.790932</td>\n",
       "    </tr>\n",
       "    <tr>\n",
       "      <th>4</th>\n",
       "      <td>1465</td>\n",
       "      <td>212814.796353</td>\n",
       "    </tr>\n",
       "    <tr>\n",
       "      <th>5</th>\n",
       "      <td>1466</td>\n",
       "      <td>179686.439636</td>\n",
       "    </tr>\n",
       "    <tr>\n",
       "      <th>6</th>\n",
       "      <td>1467</td>\n",
       "      <td>172836.889464</td>\n",
       "    </tr>\n",
       "    <tr>\n",
       "      <th>7</th>\n",
       "      <td>1468</td>\n",
       "      <td>172897.812721</td>\n",
       "    </tr>\n",
       "    <tr>\n",
       "      <th>8</th>\n",
       "      <td>1469</td>\n",
       "      <td>204947.378522</td>\n",
       "    </tr>\n",
       "    <tr>\n",
       "      <th>9</th>\n",
       "      <td>1470</td>\n",
       "      <td>99821.671825</td>\n",
       "    </tr>\n",
       "  </tbody>\n",
       "</table>\n",
       "</div>"
      ],
      "text/plain": [
       "     Id      SalePrice\n",
       "0  1461  109888.689656\n",
       "1  1462  161926.798130\n",
       "2  1463  168482.270934\n",
       "3  1464  185621.790932\n",
       "4  1465  212814.796353\n",
       "5  1466  179686.439636\n",
       "6  1467  172836.889464\n",
       "7  1468  172897.812721\n",
       "8  1469  204947.378522\n",
       "9  1470   99821.671825"
      ]
     },
     "execution_count": 400,
     "metadata": {},
     "output_type": "execute_result"
    }
   ],
   "source": [
    "submission.head(10)"
   ]
  },
  {
   "cell_type": "code",
   "execution_count": 404,
   "metadata": {},
   "outputs": [
    {
     "data": {
      "text/plain": [
       "LotArea         8400\n",
       "YearBuilt       1970\n",
       "BsmtFullBath       1\n",
       "BsmtHalfBath       0\n",
       "FullBath           1\n",
       "HalfBath           0\n",
       "Name: 9, dtype: object"
      ]
     },
     "execution_count": 404,
     "metadata": {},
     "output_type": "execute_result"
    }
   ],
   "source": [
    "# Creating sanity check for the house with index 9 (cheap)\n",
    "test_df.loc[9, ['LotArea','YearBuilt','BsmtFullBath','BsmtHalfBath','FullBath','HalfBath']]"
   ]
  },
  {
   "cell_type": "code",
   "execution_count": 410,
   "metadata": {
    "collapsed": true
   },
   "outputs": [],
   "source": [
    "import time\n",
    "timestr = time.strftime(\"%Y%m%d%H%M%S\")"
   ]
  },
  {
   "cell_type": "code",
   "execution_count": 418,
   "metadata": {
    "collapsed": true
   },
   "outputs": [],
   "source": [
    "submission.to_csv('submissions/'+pd.datetime.now().strftime(\"%Y%m%d%H%M%S\" + '.csv'), index=False)"
   ]
  },
  {
   "cell_type": "code",
   "execution_count": 425,
   "metadata": {},
   "outputs": [
    {
     "data": {
      "text/plain": [
       "'C:\\\\Source\\\\predicting-house-prices'"
      ]
     },
     "execution_count": 425,
     "metadata": {},
     "output_type": "execute_result"
    }
   ],
   "source": [
    "import os\n",
    "os.getcwd()"
   ]
  },
  {
   "cell_type": "code",
   "execution_count": 433,
   "metadata": {
    "collapsed": true
   },
   "outputs": [],
   "source": [
    "def write_submission(df, pred):\n",
    "    submission = pd.DataFrame({'Id': df.Id, 'SalePrice': pred})\n",
    "    file_path = os.getcwd() + '\\\\submissions\\\\' + pd.datetime.now().strftime(\"%Y%m%d%H%M%S\") + '.csv'\n",
    "    submission.to_csv(file_path, index=False)\n",
    "    print('File written to %s' % file_path)"
   ]
  },
  {
   "cell_type": "code",
   "execution_count": 435,
   "metadata": {},
   "outputs": [
    {
     "name": "stdout",
     "output_type": "stream",
     "text": [
      "File written to C:\\Source\\predicting-house-prices\\submissions\\20180708160101.csv\n"
     ]
    }
   ],
   "source": [
    "write_submission(test_df, predictions)"
   ]
  },
  {
   "cell_type": "markdown",
   "metadata": {},
   "source": [
    "Kaggle: Your submission scored 0.62074"
   ]
  },
  {
   "cell_type": "markdown",
   "metadata": {},
   "source": [
    "#### Find all NaNs, Nas and Nulls"
   ]
  },
  {
   "cell_type": "code",
   "execution_count": 461,
   "metadata": {
    "collapsed": true
   },
   "outputs": [],
   "source": [
    "train_df = pd.read_csv('data/train.csv')"
   ]
  },
  {
   "cell_type": "code",
   "execution_count": 475,
   "metadata": {},
   "outputs": [
    {
     "data": {
      "text/plain": [
       "Index(['LotFrontage', 'Alley', 'MasVnrType', 'MasVnrArea', 'BsmtQual',\n",
       "       'BsmtCond', 'BsmtExposure', 'BsmtFinType1', 'BsmtFinType2',\n",
       "       'Electrical', 'FireplaceQu', 'GarageType', 'GarageYrBlt',\n",
       "       'GarageFinish', 'GarageQual', 'GarageCond', 'PoolQC', 'Fence',\n",
       "       'MiscFeature'],\n",
       "      dtype='object')"
      ]
     },
     "execution_count": 475,
     "metadata": {},
     "output_type": "execute_result"
    }
   ],
   "source": [
    "# Which columns do have null values\n",
    "train_df.columns[train_df.isnull().any(axis=0)]"
   ]
  },
  {
   "cell_type": "code",
   "execution_count": 476,
   "metadata": {},
   "outputs": [
    {
     "data": {
      "text/plain": [
       "LotFrontage      259\n",
       "Alley           1369\n",
       "MasVnrType         8\n",
       "MasVnrArea         8\n",
       "BsmtQual          37\n",
       "BsmtCond          37\n",
       "BsmtExposure      38\n",
       "BsmtFinType1      37\n",
       "BsmtFinType2      38\n",
       "Electrical         1\n",
       "FireplaceQu      690\n",
       "GarageType        81\n",
       "GarageYrBlt       81\n",
       "GarageFinish      81\n",
       "GarageQual        81\n",
       "GarageCond        81\n",
       "PoolQC          1453\n",
       "Fence           1179\n",
       "MiscFeature     1406\n",
       "dtype: int64"
      ]
     },
     "execution_count": 476,
     "metadata": {},
     "output_type": "execute_result"
    }
   ],
   "source": [
    "# How many null rows in each column\n",
    "null_columns = train_df.columns[train_df.isnull().any()]\n",
    "train_df[null_columns].isnull().sum()"
   ]
  },
  {
   "cell_type": "code",
   "execution_count": 483,
   "metadata": {},
   "outputs": [
    {
     "data": {
      "text/html": [
       "<div>\n",
       "<style scoped>\n",
       "    .dataframe tbody tr th:only-of-type {\n",
       "        vertical-align: middle;\n",
       "    }\n",
       "\n",
       "    .dataframe tbody tr th {\n",
       "        vertical-align: top;\n",
       "    }\n",
       "\n",
       "    .dataframe thead th {\n",
       "        text-align: right;\n",
       "    }\n",
       "</style>\n",
       "<table border=\"1\" class=\"dataframe\">\n",
       "  <thead>\n",
       "    <tr style=\"text-align: right;\">\n",
       "      <th></th>\n",
       "      <th>LotFrontage</th>\n",
       "      <th>Alley</th>\n",
       "      <th>MasVnrType</th>\n",
       "      <th>MasVnrArea</th>\n",
       "      <th>BsmtQual</th>\n",
       "      <th>BsmtCond</th>\n",
       "      <th>BsmtExposure</th>\n",
       "      <th>BsmtFinType1</th>\n",
       "      <th>BsmtFinType2</th>\n",
       "      <th>Electrical</th>\n",
       "      <th>FireplaceQu</th>\n",
       "      <th>GarageType</th>\n",
       "      <th>GarageYrBlt</th>\n",
       "      <th>GarageFinish</th>\n",
       "      <th>GarageQual</th>\n",
       "      <th>GarageCond</th>\n",
       "      <th>PoolQC</th>\n",
       "      <th>Fence</th>\n",
       "      <th>MiscFeature</th>\n",
       "    </tr>\n",
       "  </thead>\n",
       "  <tbody>\n",
       "    <tr>\n",
       "      <th>0</th>\n",
       "      <td>65.0</td>\n",
       "      <td>NaN</td>\n",
       "      <td>BrkFace</td>\n",
       "      <td>196.0</td>\n",
       "      <td>Gd</td>\n",
       "      <td>TA</td>\n",
       "      <td>No</td>\n",
       "      <td>GLQ</td>\n",
       "      <td>Unf</td>\n",
       "      <td>SBrkr</td>\n",
       "      <td>NaN</td>\n",
       "      <td>Attchd</td>\n",
       "      <td>2003.0</td>\n",
       "      <td>RFn</td>\n",
       "      <td>TA</td>\n",
       "      <td>TA</td>\n",
       "      <td>NaN</td>\n",
       "      <td>NaN</td>\n",
       "      <td>NaN</td>\n",
       "    </tr>\n",
       "    <tr>\n",
       "      <th>1</th>\n",
       "      <td>80.0</td>\n",
       "      <td>NaN</td>\n",
       "      <td>None</td>\n",
       "      <td>0.0</td>\n",
       "      <td>Gd</td>\n",
       "      <td>TA</td>\n",
       "      <td>Gd</td>\n",
       "      <td>ALQ</td>\n",
       "      <td>Unf</td>\n",
       "      <td>SBrkr</td>\n",
       "      <td>TA</td>\n",
       "      <td>Attchd</td>\n",
       "      <td>1976.0</td>\n",
       "      <td>RFn</td>\n",
       "      <td>TA</td>\n",
       "      <td>TA</td>\n",
       "      <td>NaN</td>\n",
       "      <td>NaN</td>\n",
       "      <td>NaN</td>\n",
       "    </tr>\n",
       "    <tr>\n",
       "      <th>2</th>\n",
       "      <td>68.0</td>\n",
       "      <td>NaN</td>\n",
       "      <td>BrkFace</td>\n",
       "      <td>162.0</td>\n",
       "      <td>Gd</td>\n",
       "      <td>TA</td>\n",
       "      <td>Mn</td>\n",
       "      <td>GLQ</td>\n",
       "      <td>Unf</td>\n",
       "      <td>SBrkr</td>\n",
       "      <td>TA</td>\n",
       "      <td>Attchd</td>\n",
       "      <td>2001.0</td>\n",
       "      <td>RFn</td>\n",
       "      <td>TA</td>\n",
       "      <td>TA</td>\n",
       "      <td>NaN</td>\n",
       "      <td>NaN</td>\n",
       "      <td>NaN</td>\n",
       "    </tr>\n",
       "    <tr>\n",
       "      <th>3</th>\n",
       "      <td>60.0</td>\n",
       "      <td>NaN</td>\n",
       "      <td>None</td>\n",
       "      <td>0.0</td>\n",
       "      <td>TA</td>\n",
       "      <td>Gd</td>\n",
       "      <td>No</td>\n",
       "      <td>ALQ</td>\n",
       "      <td>Unf</td>\n",
       "      <td>SBrkr</td>\n",
       "      <td>Gd</td>\n",
       "      <td>Detchd</td>\n",
       "      <td>1998.0</td>\n",
       "      <td>Unf</td>\n",
       "      <td>TA</td>\n",
       "      <td>TA</td>\n",
       "      <td>NaN</td>\n",
       "      <td>NaN</td>\n",
       "      <td>NaN</td>\n",
       "    </tr>\n",
       "    <tr>\n",
       "      <th>4</th>\n",
       "      <td>84.0</td>\n",
       "      <td>NaN</td>\n",
       "      <td>BrkFace</td>\n",
       "      <td>350.0</td>\n",
       "      <td>Gd</td>\n",
       "      <td>TA</td>\n",
       "      <td>Av</td>\n",
       "      <td>GLQ</td>\n",
       "      <td>Unf</td>\n",
       "      <td>SBrkr</td>\n",
       "      <td>TA</td>\n",
       "      <td>Attchd</td>\n",
       "      <td>2000.0</td>\n",
       "      <td>RFn</td>\n",
       "      <td>TA</td>\n",
       "      <td>TA</td>\n",
       "      <td>NaN</td>\n",
       "      <td>NaN</td>\n",
       "      <td>NaN</td>\n",
       "    </tr>\n",
       "  </tbody>\n",
       "</table>\n",
       "</div>"
      ],
      "text/plain": [
       "   LotFrontage Alley MasVnrType  MasVnrArea BsmtQual BsmtCond BsmtExposure  \\\n",
       "0         65.0   NaN    BrkFace       196.0       Gd       TA           No   \n",
       "1         80.0   NaN       None         0.0       Gd       TA           Gd   \n",
       "2         68.0   NaN    BrkFace       162.0       Gd       TA           Mn   \n",
       "3         60.0   NaN       None         0.0       TA       Gd           No   \n",
       "4         84.0   NaN    BrkFace       350.0       Gd       TA           Av   \n",
       "\n",
       "  BsmtFinType1 BsmtFinType2 Electrical FireplaceQu GarageType  GarageYrBlt  \\\n",
       "0          GLQ          Unf      SBrkr         NaN     Attchd       2003.0   \n",
       "1          ALQ          Unf      SBrkr          TA     Attchd       1976.0   \n",
       "2          GLQ          Unf      SBrkr          TA     Attchd       2001.0   \n",
       "3          ALQ          Unf      SBrkr          Gd     Detchd       1998.0   \n",
       "4          GLQ          Unf      SBrkr          TA     Attchd       2000.0   \n",
       "\n",
       "  GarageFinish GarageQual GarageCond PoolQC Fence MiscFeature  \n",
       "0          RFn         TA         TA    NaN   NaN         NaN  \n",
       "1          RFn         TA         TA    NaN   NaN         NaN  \n",
       "2          RFn         TA         TA    NaN   NaN         NaN  \n",
       "3          Unf         TA         TA    NaN   NaN         NaN  \n",
       "4          RFn         TA         TA    NaN   NaN         NaN  "
      ]
     },
     "execution_count": 483,
     "metadata": {},
     "output_type": "execute_result"
    }
   ],
   "source": [
    "# Which rows do have null values\n",
    "train_df[train_df.isnull().any(axis=1)][null_columns].head()"
   ]
  },
  {
   "cell_type": "markdown",
   "metadata": {},
   "source": [
    "#### Find the 2 and 5 most important features"
   ]
  },
  {
   "cell_type": "code",
   "execution_count": 459,
   "metadata": {
    "collapsed": true
   },
   "outputs": [],
   "source": [
    "# This time we train on the complete set\n",
    "X = train_df.drop('SalePrice', axis=1)\n",
    "y = train_df['SalePrice']"
   ]
  },
  {
   "cell_type": "code",
   "execution_count": 460,
   "metadata": {
    "collapsed": true
   },
   "outputs": [],
   "source": [
    "# We remove categorical features first\n",
    "X = X.select_dtypes(exclude=['object'])"
   ]
  },
  {
   "cell_type": "code",
   "execution_count": 488,
   "metadata": {
    "collapsed": true
   },
   "outputs": [],
   "source": [
    "# Remove columns with null values\n",
    "X = X.drop(X.columns[X.isnull().any(axis=0)], axis=1)"
   ]
  },
  {
   "cell_type": "code",
   "execution_count": 489,
   "metadata": {},
   "outputs": [
    {
     "data": {
      "text/plain": [
       "Index([], dtype='object')"
      ]
     },
     "execution_count": 489,
     "metadata": {},
     "output_type": "execute_result"
    }
   ],
   "source": [
    "# Check result\n",
    "X.columns[X.isnull().any(axis=0)]"
   ]
  },
  {
   "cell_type": "code",
   "execution_count": 490,
   "metadata": {
    "collapsed": true
   },
   "outputs": [],
   "source": [
    "sel = SelectKBest(k=2)"
   ]
  },
  {
   "cell_type": "code",
   "execution_count": 491,
   "metadata": {},
   "outputs": [
    {
     "data": {
      "text/plain": [
       "SelectKBest(k=2, score_func=<function f_classif at 0x00000179C4E41EA0>)"
      ]
     },
     "execution_count": 491,
     "metadata": {},
     "output_type": "execute_result"
    }
   ],
   "source": [
    "sel.fit(X, y)"
   ]
  },
  {
   "cell_type": "code",
   "execution_count": 497,
   "metadata": {
    "collapsed": true
   },
   "outputs": [],
   "source": [
    "feature_score = pd.DataFrame({'Feature': X.columns, 'Score': sel.scores_})"
   ]
  },
  {
   "cell_type": "code",
   "execution_count": 501,
   "metadata": {},
   "outputs": [
    {
     "data": {
      "text/html": [
       "<div>\n",
       "<style scoped>\n",
       "    .dataframe tbody tr th:only-of-type {\n",
       "        vertical-align: middle;\n",
       "    }\n",
       "\n",
       "    .dataframe tbody tr th {\n",
       "        vertical-align: top;\n",
       "    }\n",
       "\n",
       "    .dataframe thead th {\n",
       "        text-align: right;\n",
       "    }\n",
       "</style>\n",
       "<table border=\"1\" class=\"dataframe\">\n",
       "  <thead>\n",
       "    <tr style=\"text-align: right;\">\n",
       "      <th></th>\n",
       "      <th>Feature</th>\n",
       "      <th>Score</th>\n",
       "    </tr>\n",
       "  </thead>\n",
       "  <tbody>\n",
       "    <tr>\n",
       "      <th>3</th>\n",
       "      <td>OverallQual</td>\n",
       "      <td>5.729183</td>\n",
       "    </tr>\n",
       "    <tr>\n",
       "      <th>31</th>\n",
       "      <td>MiscVal</td>\n",
       "      <td>3.756250</td>\n",
       "    </tr>\n",
       "    <tr>\n",
       "      <th>14</th>\n",
       "      <td>GrLivArea</td>\n",
       "      <td>3.435110</td>\n",
       "    </tr>\n",
       "    <tr>\n",
       "      <th>2</th>\n",
       "      <td>LotArea</td>\n",
       "      <td>3.285852</td>\n",
       "    </tr>\n",
       "    <tr>\n",
       "      <th>23</th>\n",
       "      <td>GarageCars</td>\n",
       "      <td>2.861594</td>\n",
       "    </tr>\n",
       "    <tr>\n",
       "      <th>17</th>\n",
       "      <td>FullBath</td>\n",
       "      <td>2.678847</td>\n",
       "    </tr>\n",
       "    <tr>\n",
       "      <th>24</th>\n",
       "      <td>GarageArea</td>\n",
       "      <td>2.583341</td>\n",
       "    </tr>\n",
       "    <tr>\n",
       "      <th>11</th>\n",
       "      <td>1stFlrSF</td>\n",
       "      <td>2.338620</td>\n",
       "    </tr>\n",
       "    <tr>\n",
       "      <th>10</th>\n",
       "      <td>TotalBsmtSF</td>\n",
       "      <td>2.315290</td>\n",
       "    </tr>\n",
       "    <tr>\n",
       "      <th>5</th>\n",
       "      <td>YearBuilt</td>\n",
       "      <td>2.310198</td>\n",
       "    </tr>\n",
       "  </tbody>\n",
       "</table>\n",
       "</div>"
      ],
      "text/plain": [
       "        Feature     Score\n",
       "3   OverallQual  5.729183\n",
       "31      MiscVal  3.756250\n",
       "14    GrLivArea  3.435110\n",
       "2       LotArea  3.285852\n",
       "23   GarageCars  2.861594\n",
       "17     FullBath  2.678847\n",
       "24   GarageArea  2.583341\n",
       "11     1stFlrSF  2.338620\n",
       "10  TotalBsmtSF  2.315290\n",
       "5     YearBuilt  2.310198"
      ]
     },
     "execution_count": 501,
     "metadata": {},
     "output_type": "execute_result"
    }
   ],
   "source": [
    "feature_score.sort_values('Score', ascending=False).head(10)"
   ]
  },
  {
   "cell_type": "markdown",
   "metadata": {},
   "source": [
    "#### Find the 2 most important features and display a graph with the predictions"
   ]
  },
  {
   "cell_type": "code",
   "execution_count": 504,
   "metadata": {},
   "outputs": [
    {
     "data": {
      "text/plain": [
       "3     OverallQual\n",
       "31        MiscVal\n",
       "Name: Feature, dtype: object"
      ]
     },
     "execution_count": 504,
     "metadata": {},
     "output_type": "execute_result"
    }
   ],
   "source": [
    "feature_score.sort_values('Score', ascending=False).head(2)['Feature']"
   ]
  },
  {
   "cell_type": "code",
   "execution_count": 502,
   "metadata": {
    "collapsed": true
   },
   "outputs": [],
   "source": [
    "# This time we train on the complete set\n",
    "X = train_df.drop('SalePrice', axis=1)\n",
    "y = train_df['SalePrice']"
   ]
  },
  {
   "cell_type": "code",
   "execution_count": 516,
   "metadata": {},
   "outputs": [
    {
     "data": {
      "application/javascript": [
       "/* Put everything inside the global mpl namespace */\n",
       "window.mpl = {};\n",
       "\n",
       "\n",
       "mpl.get_websocket_type = function() {\n",
       "    if (typeof(WebSocket) !== 'undefined') {\n",
       "        return WebSocket;\n",
       "    } else if (typeof(MozWebSocket) !== 'undefined') {\n",
       "        return MozWebSocket;\n",
       "    } else {\n",
       "        alert('Your browser does not have WebSocket support.' +\n",
       "              'Please try Chrome, Safari or Firefox ≥ 6. ' +\n",
       "              'Firefox 4 and 5 are also supported but you ' +\n",
       "              'have to enable WebSockets in about:config.');\n",
       "    };\n",
       "}\n",
       "\n",
       "mpl.figure = function(figure_id, websocket, ondownload, parent_element) {\n",
       "    this.id = figure_id;\n",
       "\n",
       "    this.ws = websocket;\n",
       "\n",
       "    this.supports_binary = (this.ws.binaryType != undefined);\n",
       "\n",
       "    if (!this.supports_binary) {\n",
       "        var warnings = document.getElementById(\"mpl-warnings\");\n",
       "        if (warnings) {\n",
       "            warnings.style.display = 'block';\n",
       "            warnings.textContent = (\n",
       "                \"This browser does not support binary websocket messages. \" +\n",
       "                    \"Performance may be slow.\");\n",
       "        }\n",
       "    }\n",
       "\n",
       "    this.imageObj = new Image();\n",
       "\n",
       "    this.context = undefined;\n",
       "    this.message = undefined;\n",
       "    this.canvas = undefined;\n",
       "    this.rubberband_canvas = undefined;\n",
       "    this.rubberband_context = undefined;\n",
       "    this.format_dropdown = undefined;\n",
       "\n",
       "    this.image_mode = 'full';\n",
       "\n",
       "    this.root = $('<div/>');\n",
       "    this._root_extra_style(this.root)\n",
       "    this.root.attr('style', 'display: inline-block');\n",
       "\n",
       "    $(parent_element).append(this.root);\n",
       "\n",
       "    this._init_header(this);\n",
       "    this._init_canvas(this);\n",
       "    this._init_toolbar(this);\n",
       "\n",
       "    var fig = this;\n",
       "\n",
       "    this.waiting = false;\n",
       "\n",
       "    this.ws.onopen =  function () {\n",
       "            fig.send_message(\"supports_binary\", {value: fig.supports_binary});\n",
       "            fig.send_message(\"send_image_mode\", {});\n",
       "            if (mpl.ratio != 1) {\n",
       "                fig.send_message(\"set_dpi_ratio\", {'dpi_ratio': mpl.ratio});\n",
       "            }\n",
       "            fig.send_message(\"refresh\", {});\n",
       "        }\n",
       "\n",
       "    this.imageObj.onload = function() {\n",
       "            if (fig.image_mode == 'full') {\n",
       "                // Full images could contain transparency (where diff images\n",
       "                // almost always do), so we need to clear the canvas so that\n",
       "                // there is no ghosting.\n",
       "                fig.context.clearRect(0, 0, fig.canvas.width, fig.canvas.height);\n",
       "            }\n",
       "            fig.context.drawImage(fig.imageObj, 0, 0);\n",
       "        };\n",
       "\n",
       "    this.imageObj.onunload = function() {\n",
       "        this.ws.close();\n",
       "    }\n",
       "\n",
       "    this.ws.onmessage = this._make_on_message_function(this);\n",
       "\n",
       "    this.ondownload = ondownload;\n",
       "}\n",
       "\n",
       "mpl.figure.prototype._init_header = function() {\n",
       "    var titlebar = $(\n",
       "        '<div class=\"ui-dialog-titlebar ui-widget-header ui-corner-all ' +\n",
       "        'ui-helper-clearfix\"/>');\n",
       "    var titletext = $(\n",
       "        '<div class=\"ui-dialog-title\" style=\"width: 100%; ' +\n",
       "        'text-align: center; padding: 3px;\"/>');\n",
       "    titlebar.append(titletext)\n",
       "    this.root.append(titlebar);\n",
       "    this.header = titletext[0];\n",
       "}\n",
       "\n",
       "\n",
       "\n",
       "mpl.figure.prototype._canvas_extra_style = function(canvas_div) {\n",
       "\n",
       "}\n",
       "\n",
       "\n",
       "mpl.figure.prototype._root_extra_style = function(canvas_div) {\n",
       "\n",
       "}\n",
       "\n",
       "mpl.figure.prototype._init_canvas = function() {\n",
       "    var fig = this;\n",
       "\n",
       "    var canvas_div = $('<div/>');\n",
       "\n",
       "    canvas_div.attr('style', 'position: relative; clear: both; outline: 0');\n",
       "\n",
       "    function canvas_keyboard_event(event) {\n",
       "        return fig.key_event(event, event['data']);\n",
       "    }\n",
       "\n",
       "    canvas_div.keydown('key_press', canvas_keyboard_event);\n",
       "    canvas_div.keyup('key_release', canvas_keyboard_event);\n",
       "    this.canvas_div = canvas_div\n",
       "    this._canvas_extra_style(canvas_div)\n",
       "    this.root.append(canvas_div);\n",
       "\n",
       "    var canvas = $('<canvas/>');\n",
       "    canvas.addClass('mpl-canvas');\n",
       "    canvas.attr('style', \"left: 0; top: 0; z-index: 0; outline: 0\")\n",
       "\n",
       "    this.canvas = canvas[0];\n",
       "    this.context = canvas[0].getContext(\"2d\");\n",
       "\n",
       "    var backingStore = this.context.backingStorePixelRatio ||\n",
       "\tthis.context.webkitBackingStorePixelRatio ||\n",
       "\tthis.context.mozBackingStorePixelRatio ||\n",
       "\tthis.context.msBackingStorePixelRatio ||\n",
       "\tthis.context.oBackingStorePixelRatio ||\n",
       "\tthis.context.backingStorePixelRatio || 1;\n",
       "\n",
       "    mpl.ratio = (window.devicePixelRatio || 1) / backingStore;\n",
       "\n",
       "    var rubberband = $('<canvas/>');\n",
       "    rubberband.attr('style', \"position: absolute; left: 0; top: 0; z-index: 1;\")\n",
       "\n",
       "    var pass_mouse_events = true;\n",
       "\n",
       "    canvas_div.resizable({\n",
       "        start: function(event, ui) {\n",
       "            pass_mouse_events = false;\n",
       "        },\n",
       "        resize: function(event, ui) {\n",
       "            fig.request_resize(ui.size.width, ui.size.height);\n",
       "        },\n",
       "        stop: function(event, ui) {\n",
       "            pass_mouse_events = true;\n",
       "            fig.request_resize(ui.size.width, ui.size.height);\n",
       "        },\n",
       "    });\n",
       "\n",
       "    function mouse_event_fn(event) {\n",
       "        if (pass_mouse_events)\n",
       "            return fig.mouse_event(event, event['data']);\n",
       "    }\n",
       "\n",
       "    rubberband.mousedown('button_press', mouse_event_fn);\n",
       "    rubberband.mouseup('button_release', mouse_event_fn);\n",
       "    // Throttle sequential mouse events to 1 every 20ms.\n",
       "    rubberband.mousemove('motion_notify', mouse_event_fn);\n",
       "\n",
       "    rubberband.mouseenter('figure_enter', mouse_event_fn);\n",
       "    rubberband.mouseleave('figure_leave', mouse_event_fn);\n",
       "\n",
       "    canvas_div.on(\"wheel\", function (event) {\n",
       "        event = event.originalEvent;\n",
       "        event['data'] = 'scroll'\n",
       "        if (event.deltaY < 0) {\n",
       "            event.step = 1;\n",
       "        } else {\n",
       "            event.step = -1;\n",
       "        }\n",
       "        mouse_event_fn(event);\n",
       "    });\n",
       "\n",
       "    canvas_div.append(canvas);\n",
       "    canvas_div.append(rubberband);\n",
       "\n",
       "    this.rubberband = rubberband;\n",
       "    this.rubberband_canvas = rubberband[0];\n",
       "    this.rubberband_context = rubberband[0].getContext(\"2d\");\n",
       "    this.rubberband_context.strokeStyle = \"#000000\";\n",
       "\n",
       "    this._resize_canvas = function(width, height) {\n",
       "        // Keep the size of the canvas, canvas container, and rubber band\n",
       "        // canvas in synch.\n",
       "        canvas_div.css('width', width)\n",
       "        canvas_div.css('height', height)\n",
       "\n",
       "        canvas.attr('width', width * mpl.ratio);\n",
       "        canvas.attr('height', height * mpl.ratio);\n",
       "        canvas.attr('style', 'width: ' + width + 'px; height: ' + height + 'px;');\n",
       "\n",
       "        rubberband.attr('width', width);\n",
       "        rubberband.attr('height', height);\n",
       "    }\n",
       "\n",
       "    // Set the figure to an initial 600x600px, this will subsequently be updated\n",
       "    // upon first draw.\n",
       "    this._resize_canvas(600, 600);\n",
       "\n",
       "    // Disable right mouse context menu.\n",
       "    $(this.rubberband_canvas).bind(\"contextmenu\",function(e){\n",
       "        return false;\n",
       "    });\n",
       "\n",
       "    function set_focus () {\n",
       "        canvas.focus();\n",
       "        canvas_div.focus();\n",
       "    }\n",
       "\n",
       "    window.setTimeout(set_focus, 100);\n",
       "}\n",
       "\n",
       "mpl.figure.prototype._init_toolbar = function() {\n",
       "    var fig = this;\n",
       "\n",
       "    var nav_element = $('<div/>')\n",
       "    nav_element.attr('style', 'width: 100%');\n",
       "    this.root.append(nav_element);\n",
       "\n",
       "    // Define a callback function for later on.\n",
       "    function toolbar_event(event) {\n",
       "        return fig.toolbar_button_onclick(event['data']);\n",
       "    }\n",
       "    function toolbar_mouse_event(event) {\n",
       "        return fig.toolbar_button_onmouseover(event['data']);\n",
       "    }\n",
       "\n",
       "    for(var toolbar_ind in mpl.toolbar_items) {\n",
       "        var name = mpl.toolbar_items[toolbar_ind][0];\n",
       "        var tooltip = mpl.toolbar_items[toolbar_ind][1];\n",
       "        var image = mpl.toolbar_items[toolbar_ind][2];\n",
       "        var method_name = mpl.toolbar_items[toolbar_ind][3];\n",
       "\n",
       "        if (!name) {\n",
       "            // put a spacer in here.\n",
       "            continue;\n",
       "        }\n",
       "        var button = $('<button/>');\n",
       "        button.addClass('ui-button ui-widget ui-state-default ui-corner-all ' +\n",
       "                        'ui-button-icon-only');\n",
       "        button.attr('role', 'button');\n",
       "        button.attr('aria-disabled', 'false');\n",
       "        button.click(method_name, toolbar_event);\n",
       "        button.mouseover(tooltip, toolbar_mouse_event);\n",
       "\n",
       "        var icon_img = $('<span/>');\n",
       "        icon_img.addClass('ui-button-icon-primary ui-icon');\n",
       "        icon_img.addClass(image);\n",
       "        icon_img.addClass('ui-corner-all');\n",
       "\n",
       "        var tooltip_span = $('<span/>');\n",
       "        tooltip_span.addClass('ui-button-text');\n",
       "        tooltip_span.html(tooltip);\n",
       "\n",
       "        button.append(icon_img);\n",
       "        button.append(tooltip_span);\n",
       "\n",
       "        nav_element.append(button);\n",
       "    }\n",
       "\n",
       "    var fmt_picker_span = $('<span/>');\n",
       "\n",
       "    var fmt_picker = $('<select/>');\n",
       "    fmt_picker.addClass('mpl-toolbar-option ui-widget ui-widget-content');\n",
       "    fmt_picker_span.append(fmt_picker);\n",
       "    nav_element.append(fmt_picker_span);\n",
       "    this.format_dropdown = fmt_picker[0];\n",
       "\n",
       "    for (var ind in mpl.extensions) {\n",
       "        var fmt = mpl.extensions[ind];\n",
       "        var option = $(\n",
       "            '<option/>', {selected: fmt === mpl.default_extension}).html(fmt);\n",
       "        fmt_picker.append(option)\n",
       "    }\n",
       "\n",
       "    // Add hover states to the ui-buttons\n",
       "    $( \".ui-button\" ).hover(\n",
       "        function() { $(this).addClass(\"ui-state-hover\");},\n",
       "        function() { $(this).removeClass(\"ui-state-hover\");}\n",
       "    );\n",
       "\n",
       "    var status_bar = $('<span class=\"mpl-message\"/>');\n",
       "    nav_element.append(status_bar);\n",
       "    this.message = status_bar[0];\n",
       "}\n",
       "\n",
       "mpl.figure.prototype.request_resize = function(x_pixels, y_pixels) {\n",
       "    // Request matplotlib to resize the figure. Matplotlib will then trigger a resize in the client,\n",
       "    // which will in turn request a refresh of the image.\n",
       "    this.send_message('resize', {'width': x_pixels, 'height': y_pixels});\n",
       "}\n",
       "\n",
       "mpl.figure.prototype.send_message = function(type, properties) {\n",
       "    properties['type'] = type;\n",
       "    properties['figure_id'] = this.id;\n",
       "    this.ws.send(JSON.stringify(properties));\n",
       "}\n",
       "\n",
       "mpl.figure.prototype.send_draw_message = function() {\n",
       "    if (!this.waiting) {\n",
       "        this.waiting = true;\n",
       "        this.ws.send(JSON.stringify({type: \"draw\", figure_id: this.id}));\n",
       "    }\n",
       "}\n",
       "\n",
       "\n",
       "mpl.figure.prototype.handle_save = function(fig, msg) {\n",
       "    var format_dropdown = fig.format_dropdown;\n",
       "    var format = format_dropdown.options[format_dropdown.selectedIndex].value;\n",
       "    fig.ondownload(fig, format);\n",
       "}\n",
       "\n",
       "\n",
       "mpl.figure.prototype.handle_resize = function(fig, msg) {\n",
       "    var size = msg['size'];\n",
       "    if (size[0] != fig.canvas.width || size[1] != fig.canvas.height) {\n",
       "        fig._resize_canvas(size[0], size[1]);\n",
       "        fig.send_message(\"refresh\", {});\n",
       "    };\n",
       "}\n",
       "\n",
       "mpl.figure.prototype.handle_rubberband = function(fig, msg) {\n",
       "    var x0 = msg['x0'] / mpl.ratio;\n",
       "    var y0 = (fig.canvas.height - msg['y0']) / mpl.ratio;\n",
       "    var x1 = msg['x1'] / mpl.ratio;\n",
       "    var y1 = (fig.canvas.height - msg['y1']) / mpl.ratio;\n",
       "    x0 = Math.floor(x0) + 0.5;\n",
       "    y0 = Math.floor(y0) + 0.5;\n",
       "    x1 = Math.floor(x1) + 0.5;\n",
       "    y1 = Math.floor(y1) + 0.5;\n",
       "    var min_x = Math.min(x0, x1);\n",
       "    var min_y = Math.min(y0, y1);\n",
       "    var width = Math.abs(x1 - x0);\n",
       "    var height = Math.abs(y1 - y0);\n",
       "\n",
       "    fig.rubberband_context.clearRect(\n",
       "        0, 0, fig.canvas.width, fig.canvas.height);\n",
       "\n",
       "    fig.rubberband_context.strokeRect(min_x, min_y, width, height);\n",
       "}\n",
       "\n",
       "mpl.figure.prototype.handle_figure_label = function(fig, msg) {\n",
       "    // Updates the figure title.\n",
       "    fig.header.textContent = msg['label'];\n",
       "}\n",
       "\n",
       "mpl.figure.prototype.handle_cursor = function(fig, msg) {\n",
       "    var cursor = msg['cursor'];\n",
       "    switch(cursor)\n",
       "    {\n",
       "    case 0:\n",
       "        cursor = 'pointer';\n",
       "        break;\n",
       "    case 1:\n",
       "        cursor = 'default';\n",
       "        break;\n",
       "    case 2:\n",
       "        cursor = 'crosshair';\n",
       "        break;\n",
       "    case 3:\n",
       "        cursor = 'move';\n",
       "        break;\n",
       "    }\n",
       "    fig.rubberband_canvas.style.cursor = cursor;\n",
       "}\n",
       "\n",
       "mpl.figure.prototype.handle_message = function(fig, msg) {\n",
       "    fig.message.textContent = msg['message'];\n",
       "}\n",
       "\n",
       "mpl.figure.prototype.handle_draw = function(fig, msg) {\n",
       "    // Request the server to send over a new figure.\n",
       "    fig.send_draw_message();\n",
       "}\n",
       "\n",
       "mpl.figure.prototype.handle_image_mode = function(fig, msg) {\n",
       "    fig.image_mode = msg['mode'];\n",
       "}\n",
       "\n",
       "mpl.figure.prototype.updated_canvas_event = function() {\n",
       "    // Called whenever the canvas gets updated.\n",
       "    this.send_message(\"ack\", {});\n",
       "}\n",
       "\n",
       "// A function to construct a web socket function for onmessage handling.\n",
       "// Called in the figure constructor.\n",
       "mpl.figure.prototype._make_on_message_function = function(fig) {\n",
       "    return function socket_on_message(evt) {\n",
       "        if (evt.data instanceof Blob) {\n",
       "            /* FIXME: We get \"Resource interpreted as Image but\n",
       "             * transferred with MIME type text/plain:\" errors on\n",
       "             * Chrome.  But how to set the MIME type?  It doesn't seem\n",
       "             * to be part of the websocket stream */\n",
       "            evt.data.type = \"image/png\";\n",
       "\n",
       "            /* Free the memory for the previous frames */\n",
       "            if (fig.imageObj.src) {\n",
       "                (window.URL || window.webkitURL).revokeObjectURL(\n",
       "                    fig.imageObj.src);\n",
       "            }\n",
       "\n",
       "            fig.imageObj.src = (window.URL || window.webkitURL).createObjectURL(\n",
       "                evt.data);\n",
       "            fig.updated_canvas_event();\n",
       "            fig.waiting = false;\n",
       "            return;\n",
       "        }\n",
       "        else if (typeof evt.data === 'string' && evt.data.slice(0, 21) == \"data:image/png;base64\") {\n",
       "            fig.imageObj.src = evt.data;\n",
       "            fig.updated_canvas_event();\n",
       "            fig.waiting = false;\n",
       "            return;\n",
       "        }\n",
       "\n",
       "        var msg = JSON.parse(evt.data);\n",
       "        var msg_type = msg['type'];\n",
       "\n",
       "        // Call the  \"handle_{type}\" callback, which takes\n",
       "        // the figure and JSON message as its only arguments.\n",
       "        try {\n",
       "            var callback = fig[\"handle_\" + msg_type];\n",
       "        } catch (e) {\n",
       "            console.log(\"No handler for the '\" + msg_type + \"' message type: \", msg);\n",
       "            return;\n",
       "        }\n",
       "\n",
       "        if (callback) {\n",
       "            try {\n",
       "                // console.log(\"Handling '\" + msg_type + \"' message: \", msg);\n",
       "                callback(fig, msg);\n",
       "            } catch (e) {\n",
       "                console.log(\"Exception inside the 'handler_\" + msg_type + \"' callback:\", e, e.stack, msg);\n",
       "            }\n",
       "        }\n",
       "    };\n",
       "}\n",
       "\n",
       "// from http://stackoverflow.com/questions/1114465/getting-mouse-location-in-canvas\n",
       "mpl.findpos = function(e) {\n",
       "    //this section is from http://www.quirksmode.org/js/events_properties.html\n",
       "    var targ;\n",
       "    if (!e)\n",
       "        e = window.event;\n",
       "    if (e.target)\n",
       "        targ = e.target;\n",
       "    else if (e.srcElement)\n",
       "        targ = e.srcElement;\n",
       "    if (targ.nodeType == 3) // defeat Safari bug\n",
       "        targ = targ.parentNode;\n",
       "\n",
       "    // jQuery normalizes the pageX and pageY\n",
       "    // pageX,Y are the mouse positions relative to the document\n",
       "    // offset() returns the position of the element relative to the document\n",
       "    var x = e.pageX - $(targ).offset().left;\n",
       "    var y = e.pageY - $(targ).offset().top;\n",
       "\n",
       "    return {\"x\": x, \"y\": y};\n",
       "};\n",
       "\n",
       "/*\n",
       " * return a copy of an object with only non-object keys\n",
       " * we need this to avoid circular references\n",
       " * http://stackoverflow.com/a/24161582/3208463\n",
       " */\n",
       "function simpleKeys (original) {\n",
       "  return Object.keys(original).reduce(function (obj, key) {\n",
       "    if (typeof original[key] !== 'object')\n",
       "        obj[key] = original[key]\n",
       "    return obj;\n",
       "  }, {});\n",
       "}\n",
       "\n",
       "mpl.figure.prototype.mouse_event = function(event, name) {\n",
       "    var canvas_pos = mpl.findpos(event)\n",
       "\n",
       "    if (name === 'button_press')\n",
       "    {\n",
       "        this.canvas.focus();\n",
       "        this.canvas_div.focus();\n",
       "    }\n",
       "\n",
       "    var x = canvas_pos.x * mpl.ratio;\n",
       "    var y = canvas_pos.y * mpl.ratio;\n",
       "\n",
       "    this.send_message(name, {x: x, y: y, button: event.button,\n",
       "                             step: event.step,\n",
       "                             guiEvent: simpleKeys(event)});\n",
       "\n",
       "    /* This prevents the web browser from automatically changing to\n",
       "     * the text insertion cursor when the button is pressed.  We want\n",
       "     * to control all of the cursor setting manually through the\n",
       "     * 'cursor' event from matplotlib */\n",
       "    event.preventDefault();\n",
       "    return false;\n",
       "}\n",
       "\n",
       "mpl.figure.prototype._key_event_extra = function(event, name) {\n",
       "    // Handle any extra behaviour associated with a key event\n",
       "}\n",
       "\n",
       "mpl.figure.prototype.key_event = function(event, name) {\n",
       "\n",
       "    // Prevent repeat events\n",
       "    if (name == 'key_press')\n",
       "    {\n",
       "        if (event.which === this._key)\n",
       "            return;\n",
       "        else\n",
       "            this._key = event.which;\n",
       "    }\n",
       "    if (name == 'key_release')\n",
       "        this._key = null;\n",
       "\n",
       "    var value = '';\n",
       "    if (event.ctrlKey && event.which != 17)\n",
       "        value += \"ctrl+\";\n",
       "    if (event.altKey && event.which != 18)\n",
       "        value += \"alt+\";\n",
       "    if (event.shiftKey && event.which != 16)\n",
       "        value += \"shift+\";\n",
       "\n",
       "    value += 'k';\n",
       "    value += event.which.toString();\n",
       "\n",
       "    this._key_event_extra(event, name);\n",
       "\n",
       "    this.send_message(name, {key: value,\n",
       "                             guiEvent: simpleKeys(event)});\n",
       "    return false;\n",
       "}\n",
       "\n",
       "mpl.figure.prototype.toolbar_button_onclick = function(name) {\n",
       "    if (name == 'download') {\n",
       "        this.handle_save(this, null);\n",
       "    } else {\n",
       "        this.send_message(\"toolbar_button\", {name: name});\n",
       "    }\n",
       "};\n",
       "\n",
       "mpl.figure.prototype.toolbar_button_onmouseover = function(tooltip) {\n",
       "    this.message.textContent = tooltip;\n",
       "};\n",
       "mpl.toolbar_items = [[\"Home\", \"Reset original view\", \"fa fa-home icon-home\", \"home\"], [\"Back\", \"Back to  previous view\", \"fa fa-arrow-left icon-arrow-left\", \"back\"], [\"Forward\", \"Forward to next view\", \"fa fa-arrow-right icon-arrow-right\", \"forward\"], [\"\", \"\", \"\", \"\"], [\"Pan\", \"Pan axes with left mouse, zoom with right\", \"fa fa-arrows icon-move\", \"pan\"], [\"Zoom\", \"Zoom to rectangle\", \"fa fa-square-o icon-check-empty\", \"zoom\"], [\"\", \"\", \"\", \"\"], [\"Download\", \"Download plot\", \"fa fa-floppy-o icon-save\", \"download\"]];\n",
       "\n",
       "mpl.extensions = [\"eps\", \"jpeg\", \"pdf\", \"png\", \"ps\", \"raw\", \"svg\", \"tif\"];\n",
       "\n",
       "mpl.default_extension = \"png\";var comm_websocket_adapter = function(comm) {\n",
       "    // Create a \"websocket\"-like object which calls the given IPython comm\n",
       "    // object with the appropriate methods. Currently this is a non binary\n",
       "    // socket, so there is still some room for performance tuning.\n",
       "    var ws = {};\n",
       "\n",
       "    ws.close = function() {\n",
       "        comm.close()\n",
       "    };\n",
       "    ws.send = function(m) {\n",
       "        //console.log('sending', m);\n",
       "        comm.send(m);\n",
       "    };\n",
       "    // Register the callback with on_msg.\n",
       "    comm.on_msg(function(msg) {\n",
       "        //console.log('receiving', msg['content']['data'], msg);\n",
       "        // Pass the mpl event to the overriden (by mpl) onmessage function.\n",
       "        ws.onmessage(msg['content']['data'])\n",
       "    });\n",
       "    return ws;\n",
       "}\n",
       "\n",
       "mpl.mpl_figure_comm = function(comm, msg) {\n",
       "    // This is the function which gets called when the mpl process\n",
       "    // starts-up an IPython Comm through the \"matplotlib\" channel.\n",
       "\n",
       "    var id = msg.content.data.id;\n",
       "    // Get hold of the div created by the display call when the Comm\n",
       "    // socket was opened in Python.\n",
       "    var element = $(\"#\" + id);\n",
       "    var ws_proxy = comm_websocket_adapter(comm)\n",
       "\n",
       "    function ondownload(figure, format) {\n",
       "        window.open(figure.imageObj.src);\n",
       "    }\n",
       "\n",
       "    var fig = new mpl.figure(id, ws_proxy,\n",
       "                           ondownload,\n",
       "                           element.get(0));\n",
       "\n",
       "    // Call onopen now - mpl needs it, as it is assuming we've passed it a real\n",
       "    // web socket which is closed, not our websocket->open comm proxy.\n",
       "    ws_proxy.onopen();\n",
       "\n",
       "    fig.parent_element = element.get(0);\n",
       "    fig.cell_info = mpl.find_output_cell(\"<div id='\" + id + \"'></div>\");\n",
       "    if (!fig.cell_info) {\n",
       "        console.error(\"Failed to find cell for figure\", id, fig);\n",
       "        return;\n",
       "    }\n",
       "\n",
       "    var output_index = fig.cell_info[2]\n",
       "    var cell = fig.cell_info[0];\n",
       "\n",
       "};\n",
       "\n",
       "mpl.figure.prototype.handle_close = function(fig, msg) {\n",
       "    var width = fig.canvas.width/mpl.ratio\n",
       "    fig.root.unbind('remove')\n",
       "\n",
       "    // Update the output cell to use the data from the current canvas.\n",
       "    fig.push_to_output();\n",
       "    var dataURL = fig.canvas.toDataURL();\n",
       "    // Re-enable the keyboard manager in IPython - without this line, in FF,\n",
       "    // the notebook keyboard shortcuts fail.\n",
       "    IPython.keyboard_manager.enable()\n",
       "    $(fig.parent_element).html('<img src=\"' + dataURL + '\" width=\"' + width + '\">');\n",
       "    fig.close_ws(fig, msg);\n",
       "}\n",
       "\n",
       "mpl.figure.prototype.close_ws = function(fig, msg){\n",
       "    fig.send_message('closing', msg);\n",
       "    // fig.ws.close()\n",
       "}\n",
       "\n",
       "mpl.figure.prototype.push_to_output = function(remove_interactive) {\n",
       "    // Turn the data on the canvas into data in the output cell.\n",
       "    var width = this.canvas.width/mpl.ratio\n",
       "    var dataURL = this.canvas.toDataURL();\n",
       "    this.cell_info[1]['text/html'] = '<img src=\"' + dataURL + '\" width=\"' + width + '\">';\n",
       "}\n",
       "\n",
       "mpl.figure.prototype.updated_canvas_event = function() {\n",
       "    // Tell IPython that the notebook contents must change.\n",
       "    IPython.notebook.set_dirty(true);\n",
       "    this.send_message(\"ack\", {});\n",
       "    var fig = this;\n",
       "    // Wait a second, then push the new image to the DOM so\n",
       "    // that it is saved nicely (might be nice to debounce this).\n",
       "    setTimeout(function () { fig.push_to_output() }, 1000);\n",
       "}\n",
       "\n",
       "mpl.figure.prototype._init_toolbar = function() {\n",
       "    var fig = this;\n",
       "\n",
       "    var nav_element = $('<div/>')\n",
       "    nav_element.attr('style', 'width: 100%');\n",
       "    this.root.append(nav_element);\n",
       "\n",
       "    // Define a callback function for later on.\n",
       "    function toolbar_event(event) {\n",
       "        return fig.toolbar_button_onclick(event['data']);\n",
       "    }\n",
       "    function toolbar_mouse_event(event) {\n",
       "        return fig.toolbar_button_onmouseover(event['data']);\n",
       "    }\n",
       "\n",
       "    for(var toolbar_ind in mpl.toolbar_items){\n",
       "        var name = mpl.toolbar_items[toolbar_ind][0];\n",
       "        var tooltip = mpl.toolbar_items[toolbar_ind][1];\n",
       "        var image = mpl.toolbar_items[toolbar_ind][2];\n",
       "        var method_name = mpl.toolbar_items[toolbar_ind][3];\n",
       "\n",
       "        if (!name) { continue; };\n",
       "\n",
       "        var button = $('<button class=\"btn btn-default\" href=\"#\" title=\"' + name + '\"><i class=\"fa ' + image + ' fa-lg\"></i></button>');\n",
       "        button.click(method_name, toolbar_event);\n",
       "        button.mouseover(tooltip, toolbar_mouse_event);\n",
       "        nav_element.append(button);\n",
       "    }\n",
       "\n",
       "    // Add the status bar.\n",
       "    var status_bar = $('<span class=\"mpl-message\" style=\"text-align:right; float: right;\"/>');\n",
       "    nav_element.append(status_bar);\n",
       "    this.message = status_bar[0];\n",
       "\n",
       "    // Add the close button to the window.\n",
       "    var buttongrp = $('<div class=\"btn-group inline pull-right\"></div>');\n",
       "    var button = $('<button class=\"btn btn-mini btn-primary\" href=\"#\" title=\"Stop Interaction\"><i class=\"fa fa-power-off icon-remove icon-large\"></i></button>');\n",
       "    button.click(function (evt) { fig.handle_close(fig, {}); } );\n",
       "    button.mouseover('Stop Interaction', toolbar_mouse_event);\n",
       "    buttongrp.append(button);\n",
       "    var titlebar = this.root.find($('.ui-dialog-titlebar'));\n",
       "    titlebar.prepend(buttongrp);\n",
       "}\n",
       "\n",
       "mpl.figure.prototype._root_extra_style = function(el){\n",
       "    var fig = this\n",
       "    el.on(\"remove\", function(){\n",
       "\tfig.close_ws(fig, {});\n",
       "    });\n",
       "}\n",
       "\n",
       "mpl.figure.prototype._canvas_extra_style = function(el){\n",
       "    // this is important to make the div 'focusable\n",
       "    el.attr('tabindex', 0)\n",
       "    // reach out to IPython and tell the keyboard manager to turn it's self\n",
       "    // off when our div gets focus\n",
       "\n",
       "    // location in version 3\n",
       "    if (IPython.notebook.keyboard_manager) {\n",
       "        IPython.notebook.keyboard_manager.register_events(el);\n",
       "    }\n",
       "    else {\n",
       "        // location in version 2\n",
       "        IPython.keyboard_manager.register_events(el);\n",
       "    }\n",
       "\n",
       "}\n",
       "\n",
       "mpl.figure.prototype._key_event_extra = function(event, name) {\n",
       "    var manager = IPython.notebook.keyboard_manager;\n",
       "    if (!manager)\n",
       "        manager = IPython.keyboard_manager;\n",
       "\n",
       "    // Check for shift+enter\n",
       "    if (event.shiftKey && event.which == 13) {\n",
       "        this.canvas_div.blur();\n",
       "        // select the cell after this one\n",
       "        var index = IPython.notebook.find_cell_index(this.cell_info[0]);\n",
       "        IPython.notebook.select(index + 1);\n",
       "    }\n",
       "}\n",
       "\n",
       "mpl.figure.prototype.handle_save = function(fig, msg) {\n",
       "    fig.ondownload(fig, null);\n",
       "}\n",
       "\n",
       "\n",
       "mpl.find_output_cell = function(html_output) {\n",
       "    // Return the cell and output element which can be found *uniquely* in the notebook.\n",
       "    // Note - this is a bit hacky, but it is done because the \"notebook_saving.Notebook\"\n",
       "    // IPython event is triggered only after the cells have been serialised, which for\n",
       "    // our purposes (turning an active figure into a static one), is too late.\n",
       "    var cells = IPython.notebook.get_cells();\n",
       "    var ncells = cells.length;\n",
       "    for (var i=0; i<ncells; i++) {\n",
       "        var cell = cells[i];\n",
       "        if (cell.cell_type === 'code'){\n",
       "            for (var j=0; j<cell.output_area.outputs.length; j++) {\n",
       "                var data = cell.output_area.outputs[j];\n",
       "                if (data.data) {\n",
       "                    // IPython >= 3 moved mimebundle to data attribute of output\n",
       "                    data = data.data;\n",
       "                }\n",
       "                if (data['text/html'] == html_output) {\n",
       "                    return [cell, data, j];\n",
       "                }\n",
       "            }\n",
       "        }\n",
       "    }\n",
       "}\n",
       "\n",
       "// Register the function which deals with the matplotlib target/channel.\n",
       "// The kernel may be null if the page has been refreshed.\n",
       "if (IPython.notebook.kernel != null) {\n",
       "    IPython.notebook.kernel.comm_manager.register_target('matplotlib', mpl.mpl_figure_comm);\n",
       "}\n"
      ],
      "text/plain": [
       "<IPython.core.display.Javascript object>"
      ]
     },
     "metadata": {},
     "output_type": "display_data"
    },
    {
     "data": {
      "text/html": [
       "<img src=\"data:image/png;base64,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\" width=\"864\">"
      ],
      "text/plain": [
       "<IPython.core.display.HTML object>"
      ]
     },
     "metadata": {},
     "output_type": "display_data"
    },
    {
     "data": {
      "text/plain": [
       "<matplotlib.text.Text at 0x179d2b05a90>"
      ]
     },
     "execution_count": 516,
     "metadata": {},
     "output_type": "execute_result"
    }
   ],
   "source": [
    "%matplotlib notebook\n",
    "from mpl_toolkits import mplot3d\n",
    "plt.figure(figsize=(12,8))\n",
    "ax = plt.axes(projection='3d')\n",
    "ax.scatter3D(X['OverallQual'], X['MiscVal'], y)\n",
    "ax.set_xlabel('Overall Quality')\n",
    "ax.set_ylabel('Value of Misc')\n",
    "ax.set_zlabel('Price')"
   ]
  },
  {
   "cell_type": "markdown",
   "metadata": {},
   "source": [
    "### TODO\n",
    "* Corrolelogramm\n",
    "* Take care of year built!\n",
    "* Carve out a clean benchmark model with the correct score (and corrected log function with nan-problems)\n",
    "* Feature Engineering\n",
    "    * Imputation http://scikit-learn.org/stable/modules/preprocessing.html#imputation\n",
    "    * Removing outliers\n",
    "    * Transform categorical variables\n",
    "    * Normalization\n",
    "    * Create new combined features\n",
    "    * remove correlations\n",
    "    * do i need to transform object variables explizitly in catgorical\n",
    "* Analyze directions of model\n",
    "* Drop Variables without big importances (Porch etc. see feature engineering)\n",
    "* Enhance Model\n",
    "    * Boosting\n",
    "    * Forest\n",
    "    * Lasso (Reqularization)\n",
    "* Nan in scoring function is not tolerable i suppose!\n",
    "* Handle < 0 predictions!\n",
    "* Small muliples of correlations?"
   ]
  },
  {
   "cell_type": "markdown",
   "metadata": {},
   "source": [
    "#### Notes"
   ]
  },
  {
   "cell_type": "markdown",
   "metadata": {},
   "source": [
    "* Keep warnings in mind!\n",
    "* What if we train it not with the RMSE but score it with this??\n",
    "* greater is better=False\n",
    "* testsize of 0.4 seems to work fine\n",
    "* Baseline prediction (https://signal-to-noise.xyz/post/sklearn-pipeline/)\n",
    "* PCA\n",
    "* Combining PCA with KBest (http://scikit-learn.org/stable/auto_examples/plot_feature_stacker.html#sphx-glr-auto-examples-plot-feature-stacker-py)\n",
    "* Pipelines"
   ]
  },
  {
   "cell_type": "markdown",
   "metadata": {},
   "source": [
    "Select principal components and K-Best features:\n",
    "http://scikit-learn.org/stable/auto_examples/plot_feature_stacker.html#sphx-glr-auto-examples-plot-feature-stacker-py"
   ]
  },
  {
   "cell_type": "code",
   "execution_count": null,
   "metadata": {
    "collapsed": true
   },
   "outputs": [],
   "source": []
  }
 ],
 "metadata": {
  "kernelspec": {
   "display_name": "Python 3",
   "language": "python",
   "name": "python3"
  },
  "language_info": {
   "codemirror_mode": {
    "name": "ipython",
    "version": 3
   },
   "file_extension": ".py",
   "mimetype": "text/x-python",
   "name": "python",
   "nbconvert_exporter": "python",
   "pygments_lexer": "ipython3",
   "version": "3.6.1"
  }
 },
 "nbformat": 4,
 "nbformat_minor": 2
}
